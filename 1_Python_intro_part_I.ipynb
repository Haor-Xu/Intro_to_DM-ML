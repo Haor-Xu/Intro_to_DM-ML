{
 "cells": [
  {
   "cell_type": "markdown",
   "metadata": {},
   "source": [
    "# 1. Introduction to Python. Basics. \n",
    "\n",
    "In this notebook we will learn:\n",
    "* Built in Data types: string, integer, float, boolean\n",
    "* Basic python operators\n",
    "* Variables\n",
    "* Conditions and Flow control\n",
    "* For Loops\n",
    "* Lists\n",
    "* Functions\n",
    "* Numpy basics  "
   ]
  },
  {
   "cell_type": "markdown",
   "metadata": {},
   "source": [
    "---\n",
    "## 1.1. Data types and operators\n",
    "Please execute the next code cell"
   ]
  },
  {
   "cell_type": "code",
   "execution_count": 1,
   "metadata": {},
   "outputs": [
    {
     "name": "stdout",
     "output_type": "stream",
     "text": [
      "Hello world!\n"
     ]
    }
   ],
   "source": [
    "print(\"Hello world!\")"
   ]
  },
  {
   "cell_type": "markdown",
   "metadata": {},
   "source": [
    "Now let's dissect the code. \n",
    "* `print()` is a basic python function that prints the given input. \n",
    "* `\"\"` is a way to declare a `str`\n",
    "\n",
    "`str` or string is one of the basic Data types. It is used to work with text values.\n",
    "\n",
    "**Every** value in Python is of certain data type. \n",
    "\n",
    "Other basic types are:\n",
    "\n",
    "* `int` stands for integer or whole number. E.g. `0`, `1`, `-127`, `2000`\n",
    "* `float` stands for floating point number or real number. E.g. `0.1`, `1.`, `-127.333`, `2e3`\n",
    "* `bool` stands for boolean. Could be `True` or `False`"
   ]
  },
  {
   "cell_type": "markdown",
   "metadata": {},
   "source": [
    "We can also check the DocString by using `?` in the end."
   ]
  },
  {
   "cell_type": "code",
   "execution_count": 2,
   "metadata": {},
   "outputs": [
    {
     "name": "stdout",
     "output_type": "stream",
     "text": [
      "\u001b[1;31mSignature:\u001b[0m \u001b[0mprint\u001b[0m\u001b[1;33m(\u001b[0m\u001b[1;33m*\u001b[0m\u001b[0margs\u001b[0m\u001b[1;33m,\u001b[0m \u001b[0msep\u001b[0m\u001b[1;33m=\u001b[0m\u001b[1;34m' '\u001b[0m\u001b[1;33m,\u001b[0m \u001b[0mend\u001b[0m\u001b[1;33m=\u001b[0m\u001b[1;34m'\\n'\u001b[0m\u001b[1;33m,\u001b[0m \u001b[0mfile\u001b[0m\u001b[1;33m=\u001b[0m\u001b[1;32mNone\u001b[0m\u001b[1;33m,\u001b[0m \u001b[0mflush\u001b[0m\u001b[1;33m=\u001b[0m\u001b[1;32mFalse\u001b[0m\u001b[1;33m)\u001b[0m\u001b[1;33m\u001b[0m\u001b[1;33m\u001b[0m\u001b[0m\n",
      "\u001b[1;31mDocstring:\u001b[0m\n",
      "Prints the values to a stream, or to sys.stdout by default.\n",
      "\n",
      "sep\n",
      "  string inserted between values, default a space.\n",
      "end\n",
      "  string appended after the last value, default a newline.\n",
      "file\n",
      "  a file-like object (stream); defaults to the current sys.stdout.\n",
      "flush\n",
      "  whether to forcibly flush the stream.\n",
      "\u001b[1;31mType:\u001b[0m      builtin_function_or_method"
     ]
    }
   ],
   "source": [
    "print?"
   ]
  },
  {
   "cell_type": "code",
   "execution_count": 3,
   "metadata": {},
   "outputs": [
    {
     "name": "stdout",
     "output_type": "stream",
     "text": [
      "10\n"
     ]
    }
   ],
   "source": [
    "print(4 + 3 * 2)"
   ]
  },
  {
   "cell_type": "markdown",
   "metadata": {},
   "source": [
    "`+` and `*` are called operators. \n",
    "* `+`:  addition\n",
    "* `*`:  multiplication \n",
    "\n",
    "Other operators are:\n",
    "* `-`:\tsubtraction\n",
    "* `/`:\tdivision\n",
    "* `**`:\texponent\n",
    "* `//`:\tinteger division\n",
    "* `%`:\tmodulus\n",
    "\n",
    "Functionality of operator depends on the data type that was provided."
   ]
  },
  {
   "cell_type": "code",
   "execution_count": null,
   "metadata": {},
   "outputs": [],
   "source": [
    "print(\"4\" + \"3\" * 2)"
   ]
  },
  {
   "cell_type": "markdown",
   "metadata": {},
   "source": [
    "Alternatively to convert type you can declare it via function.\n",
    "* `str()` to change the value to string\n",
    "* `int()` to change the value to integer\n",
    "* `float()` to change value to floating point number"
   ]
  },
  {
   "cell_type": "code",
   "execution_count": null,
   "metadata": {},
   "outputs": [],
   "source": [
    "print(str(4) + \"3\" * 2)\n",
    "print(float(1) + 4)\n",
    "print(\"This is: \" + str(float(1) + 4))"
   ]
  },
  {
   "cell_type": "markdown",
   "metadata": {},
   "source": [
    "\n",
    "### Exercise\n",
    "Please use `print()` function to print value of n in the format:\n",
    "\n",
    "`The answer is ` n\n",
    "\n",
    "where n is:\n",
    "\n",
    "$$\\begin{align*} & n = \\frac{2^{4}}{3.5}\\end{align*}$$\n",
    "\n"
   ]
  },
  {
   "cell_type": "markdown",
   "metadata": {},
   "source": [
    "*Double click me if you need a tip*\n",
    "<!---\n",
    "TIP: Python generally handles data types itself, but mixing of some data types requires explicit stating of the type\n",
    "-->"
   ]
  },
  {
   "cell_type": "code",
   "execution_count": null,
   "metadata": {},
   "outputs": [],
   "source": []
  },
  {
   "cell_type": "markdown",
   "metadata": {},
   "source": [
    "---\n",
    "## 1.2. Variables\n",
    "\n",
    "Variables could be used to store values of any kind. To declare a value we must name it and assign the value via `=`. There are three rules that a variable name must comply:\n",
    "\n",
    "1. It must be exactly one word.\n",
    "2. It must comprise only letters, numbers, and the underscore character.\n",
    "3. It must not begin with a number."
   ]
  },
  {
   "cell_type": "code",
   "execution_count": null,
   "metadata": {},
   "outputs": [],
   "source": [
    "my_variable = 5\n",
    "print(my_variable)\n",
    "\n",
    "new_variable = 5**2 - 7\n",
    "print(new_variable)\n",
    "\n",
    "cool_variable = new_variable // my_variable\n",
    "print(cool_variable)"
   ]
  },
  {
   "cell_type": "markdown",
   "metadata": {},
   "source": [
    "The variables could be reassigned. This is important and also dangerous. \n",
    "\n",
    "<div class = \"alert alert-danger\">\n",
    "WARNING: Do not name the variable as a built-in object, e.g. `str`, as it will make this object unavailable for later code\n",
    "</div>"
   ]
  },
  {
   "cell_type": "code",
   "execution_count": null,
   "metadata": {},
   "outputs": [],
   "source": [
    "print(my_variable)\n",
    "my_variable = 10\n",
    "print(my_variable)"
   ]
  },
  {
   "cell_type": "markdown",
   "metadata": {},
   "source": [
    "---\n",
    "## 1.3. Conditions and Flow control\n",
    "Additional operators that have not been covered yet are used for comparing variables. These are:\n",
    "* `>`: greater\n",
    "* `<`: lesser\n",
    "* `>=`: greater or equal\n",
    "* `<=`: lesser or equal\n",
    "* `==`: equal\n",
    "* `!=`: not equal"
   ]
  },
  {
   "cell_type": "code",
   "execution_count": null,
   "metadata": {},
   "outputs": [],
   "source": [
    "print(my_variable > 5)\n",
    "print(my_variable <= 10)\n",
    "print(my_variable != 10)"
   ]
  },
  {
   "cell_type": "markdown",
   "metadata": {},
   "source": [
    "<div class = \"alert alert-warning\">\n",
    "WARNING: Comparing `float` objects should be done with great care\n",
    "</div>"
   ]
  },
  {
   "cell_type": "code",
   "execution_count": null,
   "metadata": {},
   "outputs": [],
   "source": [
    "0.1 + 0.2 == 0.3"
   ]
  },
  {
   "cell_type": "markdown",
   "metadata": {},
   "source": [
    "Better to use specific packages, such as `math`."
   ]
  },
  {
   "cell_type": "code",
   "execution_count": null,
   "metadata": {},
   "outputs": [],
   "source": [
    "import math\n",
    "math.isclose(0.1 + 0.2, 0.3)"
   ]
  },
  {
   "cell_type": "markdown",
   "metadata": {},
   "source": [
    "As you can see, the output is boolean for these operations. Further combining these conditions via `not`, `and`, `or` is essential.  "
   ]
  },
  {
   "cell_type": "code",
   "execution_count": null,
   "metadata": {},
   "outputs": [],
   "source": [
    "print(my_variable, cool_variable)\n",
    "print((my_variable >= 5) and (cool_variable >= 5))\n",
    "print((my_variable >= 5) or (cool_variable >= 5))"
   ]
  },
  {
   "cell_type": "markdown",
   "metadata": {},
   "source": [
    "Conditions are very important for controlling the flow of your program. Most common way to do that is with `if` statement.\n",
    "\n",
    "General structure is:\n",
    "\n",
    "    | if <condition>:\n",
    "    |    <statement>\n",
    "\n",
    "Python uses **indentations** to express the code hierarchy. Press <kbd>Tab</kbd> to indent line(s) or <kbd>Shift</kbd> + <kbd>Tab</kbd> to remove indentation. <br />\n",
    "Now our comparisons could be more informative."
   ]
  },
  {
   "cell_type": "code",
   "execution_count": null,
   "metadata": {},
   "outputs": [],
   "source": [
    "if my_variable != 3:\n",
    "    print(\"my variable is not equal to 3\")\n",
    "\n",
    "if not my_variable == 4:\n",
    "    print(\"my variable is not equal to 4\")\n",
    "\n",
    "if my_variable == 5:\n",
    "    print(\"my variable is equal to 5\")\n"
   ]
  },
  {
   "cell_type": "markdown",
   "metadata": {},
   "source": [
    "These statements could be combined in one block if we add `elif`, which stands for else if.\n",
    "In this case **only** the first condition that is **True** will return the statement.\n",
    "\n",
    "We can further modify the structure to handle all other cases with `else`\n",
    "\n",
    "General structure becomes:\n",
    "\n",
    "    | if <condition>:\n",
    "    |    <statement>\n",
    "    | elif <condition>:\n",
    "    |    <statement>\n",
    "    | else:\n",
    "    |    <statement>\n",
    "    ...\n",
    "Let's modify our code to check if `my_variable` is equal to 3, 4, 5 or not:"
   ]
  },
  {
   "cell_type": "code",
   "execution_count": null,
   "metadata": {},
   "outputs": [],
   "source": [
    "my_variable = 2\n",
    "\n",
    "if my_variable == 3:\n",
    "    print(\"my variable is equal to 3\")\n",
    "elif my_variable == 4:\n",
    "    print(\"my variable is equal to 4\")\n",
    "elif my_variable == 5:\n",
    "    print(\"my variable is equal to 5\")\n",
    "else:\n",
    "    print(\"my variable is not 3, 4 or 5\")"
   ]
  },
  {
   "cell_type": "markdown",
   "metadata": {},
   "source": [
    "### Exercise\n",
    "Write the code that will say if `my_variable` is even or odd."
   ]
  },
  {
   "cell_type": "markdown",
   "metadata": {},
   "source": [
    "*Double click me if you need a tip*\n",
    "<!---\n",
    "TIP: you can use operators mentioned in the previous section.\n",
    "-->"
   ]
  },
  {
   "cell_type": "code",
   "execution_count": null,
   "metadata": {},
   "outputs": [],
   "source": []
  },
  {
   "cell_type": "markdown",
   "metadata": {},
   "source": [
    "---\n",
    "## 1.4. Loops\n",
    "Another important part of programming toolset are loops.  <br />\n",
    "The most common one is `for` loop. It is used to iterate through items in a container.\n",
    "\n",
    "    | for i in <container>:\n",
    "    |    <statement>\n",
    "\n",
    "The benefit of using `for` loop is the explicit number of iterations that will happen. A shortcut to loop over integers is given as the `range()` function. "
   ]
  },
  {
   "cell_type": "code",
   "execution_count": null,
   "metadata": {},
   "outputs": [],
   "source": [
    "for i in range(5):\n",
    "    print(i)"
   ]
  },
  {
   "cell_type": "markdown",
   "metadata": {},
   "source": [
    "There are other type of containers, for instance `list`. \n",
    "Where `list` could be created via function `list()` or `[]`. `list` is an ordered container and its elements could be accased via indixes."
   ]
  },
  {
   "cell_type": "code",
   "execution_count": null,
   "metadata": {},
   "outputs": [],
   "source": [
    "print(list(), [])\n",
    "example = [1, 2, 3, 4, 5]\n",
    "print(example[0]) \n",
    "print(example[-1])"
   ]
  },
  {
   "cell_type": "markdown",
   "metadata": {},
   "source": [
    "To iterate through list we can use for loops as such."
   ]
  },
  {
   "cell_type": "code",
   "execution_count": null,
   "metadata": {},
   "outputs": [],
   "source": [
    "for l in [1, 2, 3, 'Start!']:\n",
    "    print(l)"
   ]
  },
  {
   "cell_type": "markdown",
   "metadata": {},
   "source": [
    "To exit a loop early we can use `break` "
   ]
  },
  {
   "cell_type": "code",
   "execution_count": null,
   "metadata": {},
   "outputs": [],
   "source": [
    "for i in [1, 5, 12]:\n",
    "    if i > 10:\n",
    "        break\n",
    "    print(i**2)"
   ]
  },
  {
   "cell_type": "markdown",
   "metadata": {},
   "source": [
    "### Exercise\n",
    "Use loop to print all prime numbers in the range from 2 to given value `n`."
   ]
  },
  {
   "cell_type": "markdown",
   "metadata": {},
   "source": [
    "*Double click me if you need a tip*\n",
    "<!---\n",
    "TIPS: \n",
    "* you can use operators mentioned in the previous section. \n",
    "* prime number is only by its value and 1.\n",
    "* you might need to use a loop in a loop.\n",
    "-->"
   ]
  },
  {
   "cell_type": "code",
   "execution_count": null,
   "metadata": {},
   "outputs": [],
   "source": []
  },
  {
   "cell_type": "markdown",
   "metadata": {},
   "source": [
    "---\n",
    "## 1.5. Lists\n",
    "\n",
    "Another essential part of programming in python usage of containers.  <br />\n",
    "The `list` object is very common for handling the ordered sets of data."
   ]
  },
  {
   "cell_type": "code",
   "execution_count": null,
   "metadata": {},
   "outputs": [],
   "source": [
    "l = [1, 2, 3]"
   ]
  },
  {
   "cell_type": "markdown",
   "metadata": {},
   "source": [
    "<div class = \"alert alert-warning\">\n",
    "WARNING: The indexing in python starts from 0 by convention\n",
    "</div>"
   ]
  },
  {
   "attachments": {
    "image.png": {
     "image/png": "[encoded data removed]"
    }
   },
   "cell_type": "markdown",
   "metadata": {},
   "source": [
    "As a result, any list has such indexing:\n",
    "\n",
    "![image.png](attachment:image.png)"
   ]
  },
  {
   "cell_type": "code",
   "execution_count": null,
   "metadata": {},
   "outputs": [],
   "source": [
    "print(l[0]) # to access the first element in the list\n",
    "print(l[-1]) # is the way to access the last element"
   ]
  },
  {
   "cell_type": "markdown",
   "metadata": {},
   "source": [
    "We can also access a slice of a list as a new list by using `:`"
   ]
  },
  {
   "cell_type": "code",
   "execution_count": null,
   "metadata": {},
   "outputs": [],
   "source": [
    "big_list = [0, 1, 2., -3, \"dog\", \"cat\"]\n",
    "print(big_list[1:3])\n",
    "print(big_list[1:]) # the end point is not give, return everything until the end \n",
    "print(big_list[:3]) # the start point is not give, return everything until the given point. idx 3 value is NOT included\n"
   ]
  },
  {
   "cell_type": "markdown",
   "metadata": {},
   "source": [
    "As was stated before, the basic operators behave differently based on provided objects. <br />\n",
    "To add elements to list we can use `+` if we turn the element into the list or to use `.append()`"
   ]
  },
  {
   "cell_type": "code",
   "execution_count": null,
   "metadata": {},
   "outputs": [],
   "source": [
    "l1 = [0, 1, 2]\n",
    "l2 = [3, 4, 5]\n",
    "\n",
    "print(l1 + l2)\n",
    "\n",
    "l2.append('added element')\n",
    "print(l2)\n",
    "\n",
    "print(l1 * 2) # is to append the same array n times"
   ]
  },
  {
   "cell_type": "markdown",
   "metadata": {},
   "source": [
    "`list` can contain any object, even another list."
   ]
  },
  {
   "cell_type": "code",
   "execution_count": null,
   "metadata": {},
   "outputs": [],
   "source": [
    "list_2d = [\n",
    "            [1, 2, 3],\n",
    "            [4, 5, 6],\n",
    "            [7, 8, 9]\n",
    "            ]\n",
    "\n",
    "print(list_2d[0][2]) # to access an element we need to use multiple []"
   ]
  },
  {
   "cell_type": "markdown",
   "metadata": {},
   "source": [
    "It is possible to also modify an element by assigning it again."
   ]
  },
  {
   "cell_type": "code",
   "execution_count": null,
   "metadata": {},
   "outputs": [],
   "source": [
    "l = [1, 2, 3]\n",
    "\n",
    "for idx, i in enumerate(l): # enumerate adds also the index of container\n",
    "    l[idx] = 2**i\n",
    "\n",
    "print(l)\n",
    "\n",
    "# as an alternative, you can also use list comprehention\n",
    "\n",
    "l = [1, 2, 3]\n",
    "\n",
    "l = [2**i for i in l]\n",
    "\n",
    "print(l)\n"
   ]
  },
  {
   "cell_type": "markdown",
   "metadata": {},
   "source": [
    "List comprehention is a way to create a new list based on the values of an existing list.\n",
    "\n",
    "    | [func(i) for i in <container> if <condition>]    "
   ]
  },
  {
   "cell_type": "code",
   "execution_count": null,
   "metadata": {},
   "outputs": [],
   "source": [
    "fruits = [\"apple\", \"banana\", \"cherry\", \"kiwi\", \"mango\"]\n",
    "\n",
    "newlist = [x for x in fruits if \"a\" in x]\n",
    "\n",
    "print(newlist)"
   ]
  },
  {
   "cell_type": "markdown",
   "metadata": {},
   "source": [
    "You can also use list comprehension to extract list from `range()` container."
   ]
  },
  {
   "cell_type": "code",
   "execution_count": null,
   "metadata": {},
   "outputs": [],
   "source": [
    "r = range(5, 10)\n",
    "print(r)\n",
    "print([i for i in r])"
   ]
  },
  {
   "cell_type": "markdown",
   "metadata": {},
   "source": [
    "We can count the number of values in a list by using `len()` function."
   ]
  },
  {
   "cell_type": "code",
   "execution_count": null,
   "metadata": {},
   "outputs": [],
   "source": [
    "fruits = [\"apple\", \"banana\", \"cherry\", \"kiwi\", \"mango\"]\n",
    "print(len(fruits))"
   ]
  },
  {
   "cell_type": "markdown",
   "metadata": {},
   "source": [
    "Another benefit of starting count from 0."
   ]
  },
  {
   "cell_type": "code",
   "execution_count": null,
   "metadata": {},
   "outputs": [],
   "source": [
    "fruits[0:len(fruits)]"
   ]
  },
  {
   "cell_type": "markdown",
   "metadata": {},
   "source": [
    "### Exercise\n",
    "Write a code that concatenates all elements in a list into a string and returns it"
   ]
  },
  {
   "cell_type": "code",
   "execution_count": null,
   "metadata": {},
   "outputs": [],
   "source": []
  },
  {
   "cell_type": "markdown",
   "metadata": {},
   "source": [
    "---\n",
    "## 1.6. Functions\n",
    "An important practice for coding is to reuse parts of codes. To avoid constant copy and pasting, we wrap reusable code into functions.\n",
    "\n",
    "Functions are defined with `def` keyword.\n",
    "\n",
    "    | def <funcion name>(<funcion variables>):\n",
    "    |    <statement>"
   ]
  },
  {
   "cell_type": "code",
   "execution_count": null,
   "metadata": {},
   "outputs": [],
   "source": [
    "def hello(x):\n",
    "    print(\"Hello\", str(x)+\"!\")\n",
    "\n",
    "hello(\"world\")\n",
    "hello(\"you\")"
   ]
  },
  {
   "cell_type": "markdown",
   "metadata": {},
   "source": [
    "It is possible to receive a modified variable back, if we add `return` keyword in the function."
   ]
  },
  {
   "cell_type": "code",
   "execution_count": null,
   "metadata": {},
   "outputs": [],
   "source": [
    "def square(x):\n",
    "    return x**2\n",
    "\n",
    "print(square(5))"
   ]
  },
  {
   "cell_type": "markdown",
   "metadata": {},
   "source": [
    "Functions can have multiple inputs. Where some inputs could be predefined."
   ]
  },
  {
   "cell_type": "code",
   "execution_count": null,
   "metadata": {},
   "outputs": [],
   "source": [
    "def func(a, b = 5):\n",
    "    x = a**2 + b**2\n",
    "    y = a*b - a - b\n",
    "    return x, y\n",
    "\n",
    "print(func(3))\n",
    "print(func(a = 3))\n",
    "print(func(b = 3, a =1))"
   ]
  },
  {
   "cell_type": "markdown",
   "metadata": {},
   "source": [
    "Functions can receive almost anything as input - even other functions."
   ]
  },
  {
   "cell_type": "code",
   "execution_count": null,
   "metadata": {},
   "outputs": [],
   "source": [
    "def small_func(x):\n",
    "    return x**3 - x**2 + x\n",
    "\n",
    "def big_func(x, func):\n",
    "    print(\"This function results in\", str(func(x)), \"for input value of\", str(x))\n",
    "\n",
    "\n",
    "big_func(4, small_func)"
   ]
  },
  {
   "cell_type": "markdown",
   "metadata": {},
   "source": [
    "### Exercise\n",
    "Write a function that will check if elements in provided `list` are prime numbers and print them in a new `list` "
   ]
  },
  {
   "cell_type": "code",
   "execution_count": null,
   "metadata": {},
   "outputs": [],
   "source": []
  },
  {
   "cell_type": "markdown",
   "metadata": {},
   "source": [
    "---\n",
    "## 1.7. Numpy\n",
    "`list` is a very useful container, but it has its limitations. Here is an example:"
   ]
  },
  {
   "cell_type": "code",
   "execution_count": null,
   "metadata": {},
   "outputs": [],
   "source": [
    "l = [1, 2, 3]\n",
    "l - 2"
   ]
  },
  {
   "cell_type": "markdown",
   "metadata": {},
   "source": [
    "To modify `list` elements you would need to deliberately access them. \n",
    "\n",
    "The solution comes in the form of `numpy.array`. First, we need to `import numpy`."
   ]
  },
  {
   "cell_type": "code",
   "execution_count": null,
   "metadata": {},
   "outputs": [],
   "source": [
    "import numpy as np\n",
    "\n",
    "a = [1, 2, 3]\n",
    "a = np.array(a)\n",
    "print(a - 2)"
   ]
  },
  {
   "cell_type": "code",
   "execution_count": null,
   "metadata": {},
   "outputs": [],
   "source": [
    "# ? at the end of numpy function or class will return the respective Docstring\n",
    "np.array?"
   ]
  },
  {
   "cell_type": "markdown",
   "metadata": {},
   "source": [
    "Besides this, `list` is not efficient for representing matrices. Especially is we want to acces particular row or column. \n",
    "We can see it in the next example."
   ]
  },
  {
   "cell_type": "code",
   "execution_count": null,
   "metadata": {},
   "outputs": [],
   "source": [
    "a = [[1, 2, 3], \n",
    "     [4, 5, 6], \n",
    "     [7, 8, 9]]\n",
    "\n",
    "print([i[1] for i in a]) # list comprehension is the only way to access columns in 2D list\n",
    "print(a[1])\n",
    "\n",
    "a = np.array(a)\n",
    "\n",
    "print(a[:,1])\n",
    "print(a[1])\n",
    "print(a[1:,:-1])\n"
   ]
  },
  {
   "cell_type": "markdown",
   "metadata": {},
   "source": [
    "`numpy` also comes with all functions necessary for linear algebra."
   ]
  },
  {
   "cell_type": "code",
   "execution_count": null,
   "metadata": {},
   "outputs": [],
   "source": [
    "a = [[1, 2, 3], \n",
    "     [4, 5, 6], \n",
    "     [7, 8, 9]]\n",
    "\n",
    "a = np.array(a)\n",
    "\n",
    "b = np.array([1,1,1])\n",
    "\n",
    "print(np.dot(b,a)) # dot product\n",
    "print(np.exp(a)) # we can efficiently calculate exponential of every element"
   ]
  },
  {
   "cell_type": "code",
   "execution_count": null,
   "metadata": {},
   "outputs": [],
   "source": []
  },
  {
   "cell_type": "markdown",
   "metadata": {},
   "source": [
    "## Homework\n",
    "The non-graded homework will be soon available on moodle.  "
   ]
  },
  {
   "cell_type": "markdown",
   "metadata": {},
   "source": [
    "## References:\n",
    "We recommend to also check: \n",
    "* [scientific python 101](https://scientific-python-101.readthedocs.io/) \n",
    "* [intro to python](http://introtopython.org/)"
   ]
  },
  {
   "cell_type": "code",
   "execution_count": null,
   "metadata": {},
   "outputs": [],
   "source": []
  }
 ],
 "metadata": {
  "kernelspec": {
   "display_name": "Python 3 (ipykernel)",
   "language": "python",
   "name": "python3"
  },
  "language_info": {
   "codemirror_mode": {
    "name": "ipython",
    "version": 3
   },
   "file_extension": ".py",
   "mimetype": "text/x-python",
   "name": "python",
   "nbconvert_exporter": "python",
   "pygments_lexer": "ipython3",
   "version": "3.11.4"
  },
  "vscode": {
   "interpreter": {
    "hash": "b34acbb6f3f4b0ace3e43b573b999749dcbed88c2f63fa5785afaa19f0fd0cfb"
   }
  }
 },
 "nbformat": 4,
 "nbformat_minor": 2
}
