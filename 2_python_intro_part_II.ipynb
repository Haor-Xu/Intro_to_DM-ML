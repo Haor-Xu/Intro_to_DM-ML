{
 "cells": [
  {
   "cell_type": "markdown",
   "id": "831ff4fb",
   "metadata": {},
   "source": [
    "# I - Python Exercices"
   ]
  },
  {
   "cell_type": "markdown",
   "id": "c8704926",
   "metadata": {},
   "source": [
    "1. Create two integer variables named `a` and `b`, print the product of the two variables."
   ]
  },
  {
   "cell_type": "code",
   "execution_count": 97,
   "id": "68bd8d42",
   "metadata": {},
   "outputs": [
    {
     "name": "stdout",
     "output_type": "stream",
     "text": [
      "3\n"
     ]
    }
   ],
   "source": [
    "a = 1\n",
    "b = 2\n",
    "print(a+b)"
   ]
  },
  {
   "cell_type": "markdown",
   "id": "a2183a0a",
   "metadata": {},
   "source": [
    "2. Create two float variables named `a` and `b`, print the sum of the two variables."
   ]
  },
  {
   "cell_type": "code",
   "execution_count": 98,
   "id": "35ecdcaa",
   "metadata": {},
   "outputs": [
    {
     "name": "stdout",
     "output_type": "stream",
     "text": [
      "3.0\n"
     ]
    }
   ],
   "source": [
    "a = 1.0\n",
    "b = 2.0\n",
    "print(a+b)"
   ]
  },
  {
   "cell_type": "markdown",
   "id": "7eb91796",
   "metadata": {},
   "source": [
    "3. Assign your first name to the variable named `a`, and your surname to the variable named `b` as strings. Then, merge these two string variables and assign it to the variable named `c`, and print."
   ]
  },
  {
   "cell_type": "code",
   "execution_count": 99,
   "id": "73b7435a",
   "metadata": {},
   "outputs": [
    {
     "name": "stdout",
     "output_type": "stream",
     "text": [
      "HX\n",
      "HX\n"
     ]
    }
   ],
   "source": [
    "a = \"H\"\n",
    "b = \"X\"\n",
    "print(a+b)\n",
    "print(\"\".join([a, b]))"
   ]
  },
  {
   "cell_type": "markdown",
   "id": "8839d35f",
   "metadata": {},
   "source": [
    "4. Create a list named `list_numbers` containing the number 10, 165, 842, 9, 3, 651 and print the 3rd and last element of this list."
   ]
  },
  {
   "cell_type": "code",
   "execution_count": 100,
   "id": "cf8af602",
   "metadata": {},
   "outputs": [
    {
     "name": "stdout",
     "output_type": "stream",
     "text": [
      "842 651\n"
     ]
    }
   ],
   "source": [
    "ln = [10,165,842,9,3,651]\n",
    "print(ln[2],ln[-1])"
   ]
  },
  {
   "cell_type": "markdown",
   "id": "5d7630d8",
   "metadata": {},
   "source": [
    "5. Using a `for` loop, print each element of the previous list (`list_numbers`)."
   ]
  },
  {
   "cell_type": "code",
   "execution_count": 101,
   "id": "f53bc111",
   "metadata": {},
   "outputs": [
    {
     "name": "stdout",
     "output_type": "stream",
     "text": [
      "10\n",
      "165\n",
      "842\n",
      "9\n",
      "3\n",
      "651\n"
     ]
    }
   ],
   "source": [
    "for i in ln:\n",
    "    print(i)"
   ]
  },
  {
   "cell_type": "markdown",
   "id": "3c65c0ae",
   "metadata": {},
   "source": [
    "6. Using a `for` loop, print only the odd number of the previous list (`list_numbers`).\n",
    "\n",
    "the modulo `%` operation between **a** and **b** return the remainder of the euclidean division between **a** and **b**"
   ]
  },
  {
   "cell_type": "code",
   "execution_count": 102,
   "id": "2858fad9",
   "metadata": {},
   "outputs": [
    {
     "name": "stdout",
     "output_type": "stream",
     "text": [
      "[165, 9, 651]\n"
     ]
    },
    {
     "data": {
      "text/plain": [
       "'\\nfor i in ln:\\n    if i % 2 != 0:\\n        output.append(num)\\nprint(output)\\n'"
      ]
     },
     "execution_count": 102,
     "metadata": {},
     "output_type": "execute_result"
    }
   ],
   "source": [
    "print(ln[1::2])\n",
    "'''\n",
    "for i in ln:\n",
    "    if i % 2 != 0:\n",
    "        output.append(num)\n",
    "print(output)\n",
    "'''"
   ]
  },
  {
   "cell_type": "markdown",
   "id": "6e77621d",
   "metadata": {},
   "source": [
    "7. Using a `for` loop, store the squared values from 0 to 10 in a list call `list_square`.\n",
    "\n",
    "   hint: you need to initiate an empty list first."
   ]
  },
  {
   "cell_type": "code",
   "execution_count": 103,
   "id": "c9b01ace",
   "metadata": {},
   "outputs": [
    {
     "name": "stdout",
     "output_type": "stream",
     "text": [
      "[0, 1, 4, 9, 16, 25, 36, 49, 64, 81]\n"
     ]
    }
   ],
   "source": [
    "ls = []\n",
    "for i in range(10):\n",
    "    ls.append(i*i)\n",
    "print(ls)"
   ]
  },
  {
   "cell_type": "markdown",
   "id": "024c273e",
   "metadata": {},
   "source": [
    "8. Using only one `for` loop, write a code that stores all the odd numbers in a list named `list_odds` and the even numbers in a list named `list_evens`. The loop must start from 1 and goes up to n=100."
   ]
  },
  {
   "cell_type": "code",
   "execution_count": 104,
   "id": "5076df60",
   "metadata": {},
   "outputs": [
    {
     "name": "stdout",
     "output_type": "stream",
     "text": [
      "[1, 3, 5, 7, 9, 11, 13, 15, 17, 19, 21, 23, 25, 27, 29, 31, 33, 35, 37, 39, 41, 43, 45, 47, 49, 51, 53, 55, 57, 59, 61, 63, 65, 67, 69, 71, 73, 75, 77, 79, 81, 83, 85, 87, 89, 91, 93, 95, 97, 99]\n",
      "[2, 4, 6, 8, 10, 12, 14, 16, 18, 20, 22, 24, 26, 28, 30, 32, 34, 36, 38, 40, 42, 44, 46, 48, 50, 52, 54, 56, 58, 60, 62, 64, 66, 68, 70, 72, 74, 76, 78, 80, 82, 84, 86, 88, 90, 92, 94, 96, 98, 100]\n"
     ]
    }
   ],
   "source": [
    "lo=[]\n",
    "le=[]\n",
    "for i in range(100):\n",
    "    if i % 2 == 0:\n",
    "        lo.append(i+1)\n",
    "    else:\n",
    "        le.append(i+1)\n",
    "print(lo)\n",
    "print(le)        "
   ]
  },
  {
   "cell_type": "markdown",
   "id": "6e9bdd0d",
   "metadata": {},
   "source": [
    "9. Write a function `exponent` that take two integers as an input, named `base` and `exp`, and return `base` raises to the power of `exp`. Print the result for base=2, exp=5 and base=3, exp=4"
   ]
  },
  {
   "cell_type": "code",
   "execution_count": 105,
   "id": "efae5816",
   "metadata": {},
   "outputs": [
    {
     "name": "stdout",
     "output_type": "stream",
     "text": [
      "32\n",
      "81\n"
     ]
    }
   ],
   "source": [
    "def exp(base, power):\n",
    "    return base**power\n",
    "print(exp(2,5))\n",
    "print(exp(3,4))"
   ]
  },
  {
   "cell_type": "markdown",
   "id": "464ce058",
   "metadata": {},
   "source": [
    "10. Write a function that takes as input three variables, and returns the largest of the three. Do this without using the Python max() function!"
   ]
  },
  {
   "cell_type": "code",
   "execution_count": 106,
   "id": "ff8fe35b",
   "metadata": {},
   "outputs": [
    {
     "name": "stdout",
     "output_type": "stream",
     "text": [
      "3\n",
      "3\n",
      "3\n"
     ]
    }
   ],
   "source": [
    "def mo3(n1,n2,n3):\n",
    "    if n1 > n2 and n1 > n3:\n",
    "        return n1\n",
    "    elif n2 > n1 and n2 > n3:\n",
    "        return n2\n",
    "    else:\n",
    "        return n3 \n",
    "print(mo3(1,2,3))\n",
    "print(mo3(2,3,1))\n",
    "print(mo3(3,1,2))"
   ]
  },
  {
   "cell_type": "markdown",
   "id": "fc916678",
   "metadata": {},
   "source": [
    "11. (bonus) The Fibonacci sequence is define as: $F_i$ = $F_{i-1}$ + $F_{i-2}$. The sequence start with $F_0 = 1$ and $F_1$=1.\n",
    "\n",
    "    Write a function that take `n` as an input and return $F_n$."
   ]
  },
  {
   "cell_type": "code",
   "execution_count": 107,
   "id": "e4ace261",
   "metadata": {},
   "outputs": [
    {
     "name": "stdout",
     "output_type": "stream",
     "text": [
      "233\n"
     ]
    }
   ],
   "source": [
    "def fib(n):\n",
    "    Fib=[]\n",
    "    Fib.append(1)\n",
    "    Fib.append(1)\n",
    "    for i in range(2,n+1):\n",
    "        Fib.append(Fib[i-1]+Fib[i-2])\n",
    "    return Fib[n]\n",
    "\n",
    "print(fib(12))"
   ]
  },
  {
   "cell_type": "markdown",
   "id": "eada7da3",
   "metadata": {},
   "source": [
    "# II - Numpy\n",
    "\n",
    "NumPy is a third-party package for Python that provides utilities for numerical programming with Python. It is commonly imported via"
   ]
  },
  {
   "cell_type": "code",
   "execution_count": 108,
   "id": "e63e955b",
   "metadata": {},
   "outputs": [],
   "source": [
    "import numpy as np"
   ]
  },
  {
   "cell_type": "markdown",
   "id": "20d7660a",
   "metadata": {},
   "source": [
    "The Python programming language was not originally designed for numerical computing, so when you try to add two `list`, python will concatenate them instead of doing elementwise addition"
   ]
  },
  {
   "cell_type": "code",
   "execution_count": 109,
   "id": "3f691a2d",
   "metadata": {},
   "outputs": [
    {
     "name": "stdout",
     "output_type": "stream",
     "text": [
      "[0, 1, 2, 3, 4, 5]\n"
     ]
    }
   ],
   "source": [
    "a = [0, 1, 2]\n",
    "b = [3, 4, 5]\n",
    "c = a + b\n",
    "print(c)"
   ]
  },
  {
   "cell_type": "markdown",
   "id": "ba2517cc",
   "metadata": {},
   "source": [
    "In order to sum element of two list, you need to loop through all the elements of each `list`"
   ]
  },
  {
   "cell_type": "code",
   "execution_count": 110,
   "id": "51298528",
   "metadata": {},
   "outputs": [
    {
     "name": "stdout",
     "output_type": "stream",
     "text": [
      "[3, 5, 7]\n"
     ]
    }
   ],
   "source": [
    "c = []\n",
    "for i in range(len(a)):\n",
    "    c.append(a[i] + b[i])\n",
    "print(c)"
   ]
  },
  {
   "cell_type": "markdown",
   "id": "0211e636",
   "metadata": {},
   "source": [
    "This is really not efficient in term of memory and computation time. This is why numpy was developp with the idea of using **array** to store numbers and make manipulation/computation easy.\n",
    "\n",
    "To create an array, you can simply call that `array` methods on any `list`:"
   ]
  },
  {
   "cell_type": "code",
   "execution_count": 111,
   "id": "ecf316c9",
   "metadata": {},
   "outputs": [
    {
     "name": "stdout",
     "output_type": "stream",
     "text": [
      "[0 1 2]\n"
     ]
    }
   ],
   "source": [
    "my_array = np.array([0, 1, 2]) # create a 1D array of integers\n",
    "print(my_array)"
   ]
  },
  {
   "cell_type": "code",
   "execution_count": 112,
   "id": "180ea08d",
   "metadata": {},
   "outputs": [
    {
     "name": "stdout",
     "output_type": "stream",
     "text": [
      "[3 5 7]\n",
      "[3, 5, 7]\n",
      "[3. 5. 7.]\n"
     ]
    }
   ],
   "source": [
    "a = np.array([0, 1, 2])\n",
    "b = np.array([3, 4, 5])\n",
    "c1 = a + b\n",
    "print(c1)\n",
    "\n",
    "c2 = []\n",
    "for i in range(len(a)):\n",
    "    c2.append(a[i] + b[i])\n",
    "print(c2)\n",
    "\n",
    "c3=[]\n",
    "for i in range(len(a)):\n",
    "    c3=np.append(c3,a[i] + b[i])\n",
    "print(c3)"
   ]
  },
  {
   "cell_type": "code",
   "execution_count": 113,
   "id": "688eb2ee",
   "metadata": {},
   "outputs": [
    {
     "data": {
      "text/plain": [
       "array([ True,  True,  True])"
      ]
     },
     "execution_count": 113,
     "metadata": {},
     "output_type": "execute_result"
    }
   ],
   "source": [
    "c2 == c3"
   ]
  },
  {
   "cell_type": "markdown",
   "id": "3b93666d",
   "metadata": {},
   "source": [
    "You will often see the name `ndarray` on the internet when searching for numpy array. This is for **n-dimensional array** which mean that Numpy support **n** dimension for the array.\n",
    "\n",
    "\n",
    "$\\left[\n",
    "\\begin{array}{ccc}\n",
    " 0 & 1 & 2 \\\\\n",
    " 3 & 4 & 5 \\end{array}\n",
    "\\right]$\n",
    "\n",
    "\n",
    "\n",
    "You can create a 2D array in Numpy like this:"
   ]
  },
  {
   "cell_type": "code",
   "execution_count": 114,
   "id": "17762b9b",
   "metadata": {},
   "outputs": [
    {
     "name": "stdout",
     "output_type": "stream",
     "text": [
      "[[0 1 2]\n",
      " [3 4 5]]\n"
     ]
    }
   ],
   "source": [
    "my_2D_array = np.array([[0, 1, 2], [3, 4 ,5]])\n",
    "print(my_2D_array)"
   ]
  },
  {
   "cell_type": "code",
   "execution_count": 115,
   "id": "fc6ff36f",
   "metadata": {},
   "outputs": [
    {
     "name": "stdout",
     "output_type": "stream",
     "text": [
      "2D list in python:\n",
      " [[0, 1, 2], [3, 4, 5], [6, 7, 8]] \n",
      "\n",
      "2D array in Numpy:\n",
      " [[0 1 2]\n",
      " [3 4 5]\n",
      " [6 7 8]]\n"
     ]
    }
   ],
   "source": [
    "list_2D = [[0, 1, 2], [3, 4, 5], [6, 7, 8]]\n",
    "array_2D = np.array(list_2D)\n",
    "print('2D list in python:\\n', list_2D, '\\n')\n",
    "print('2D array in Numpy:\\n', array_2D)"
   ]
  },
  {
   "cell_type": "markdown",
   "id": "012369f2",
   "metadata": {},
   "source": [
    "Numpy support slicing. Slicing refers to extracting partial data from arrays.\n",
    "\n"
   ]
  },
  {
   "cell_type": "markdown",
   "id": "a5b81512",
   "metadata": {},
   "source": [
    "$\n",
    "\\begin{array}{cc} &\n",
    "\\begin{array}{cccc} 0 & 1 & 2 & 3\n",
    "\\end{array}\n",
    "\\\\\n",
    "\\begin{array}{cccc}\n",
    "0 \\\\\n",
    "1 \\\\\n",
    "2 \\\\\n",
    "3\n",
    "\\end{array}\n",
    "&\n",
    "\\left(\n",
    "\\begin{array}{cccc}\n",
    "a & b & c & d \\\\\n",
    "e & f & g & h \\\\\n",
    "i & j & k & l \\\\\n",
    "m & n & o & p \\end{array}\n",
    "\\right)\n",
    "\\end{array}\n",
    "$\n",
    "\n"
   ]
  },
  {
   "cell_type": "code",
   "execution_count": 116,
   "id": "9704b15c",
   "metadata": {},
   "outputs": [
    {
     "name": "stdout",
     "output_type": "stream",
     "text": [
      "[['a' 'b' 'c' 'd']\n",
      " ['e' 'f' 'g' 'h']\n",
      " ['i' 'j' 'k' 'l']\n",
      " ['m' 'n' 'o' 'p']]\n"
     ]
    }
   ],
   "source": [
    "letter_list = [['a','b','c','d'],['e','f','g','h'],['i','j','k','l'],['m','n','o','p']]\n",
    "letter_array = np.array(letter_list)\n",
    "print(letter_array)"
   ]
  },
  {
   "cell_type": "code",
   "execution_count": 117,
   "id": "298bfeda",
   "metadata": {},
   "outputs": [
    {
     "name": "stdout",
     "output_type": "stream",
     "text": [
      "c\n",
      "['b' 'f' 'j' 'n']\n"
     ]
    }
   ],
   "source": [
    "print(letter_array[0, 2]) # python indexing start at 0\n",
    "\n",
    "print(letter_array[:, 1]) # get all the values from the 2nd column"
   ]
  },
  {
   "cell_type": "markdown",
   "id": "51e6e098",
   "metadata": {},
   "source": [
    "Doing the same thing on list require to iterate through all the elements:"
   ]
  },
  {
   "cell_type": "code",
   "execution_count": 118,
   "id": "f6ab32e0",
   "metadata": {},
   "outputs": [
    {
     "name": "stdout",
     "output_type": "stream",
     "text": [
      "['b', 'f', 'j', 'n']\n"
     ]
    },
    {
     "data": {
      "text/plain": [
       "array(['b', 'f', 'j', 'n'], dtype='<U1')"
      ]
     },
     "execution_count": 118,
     "metadata": {},
     "output_type": "execute_result"
    }
   ],
   "source": [
    "column = []\n",
    "for sublist in letter_list:\n",
    "    column.append(sublist[1])\n",
    "print(column)\n",
    "\n",
    "# Return a copy of the 2nd array collapsed into one dimension.\n",
    "letter_array[:, 1] "
   ]
  },
  {
   "cell_type": "code",
   "execution_count": 119,
   "id": "6c367e03",
   "metadata": {},
   "outputs": [
    {
     "data": {
      "text/plain": [
       "array([['a'],\n",
       "       ['e'],\n",
       "       ['i'],\n",
       "       ['m']], dtype='<U1')"
      ]
     },
     "execution_count": 119,
     "metadata": {},
     "output_type": "execute_result"
    }
   ],
   "source": [
    "#Return the 2nd column in form of a 2D array.\n",
    "letter_array[:, :1] "
   ]
  },
  {
   "cell_type": "markdown",
   "id": "ec6599f6",
   "metadata": {},
   "source": [
    "## Build-in function\n",
    "\n",
    "Numpy comes with a lot of usefull build-in function to make operation on array easy."
   ]
  },
  {
   "cell_type": "markdown",
   "id": "0ec5d8c9",
   "metadata": {},
   "source": [
    "### 1 - zeros, ones and full\n",
    "\n",
    "It is not always necessary to create an array from a list. Numpy can directly create one for you.\n",
    "By using `np.zeros()`, `np.ones()` or `np.full()`, you can create an array fill with zeros, ones or any specify value. You can specify the shape by using the `shape` argument"
   ]
  },
  {
   "cell_type": "code",
   "execution_count": 120,
   "id": "092452c0",
   "metadata": {},
   "outputs": [
    {
     "name": "stdout",
     "output_type": "stream",
     "text": [
      "The 'zeros' array:\n",
      " [[0. 0.]\n",
      " [0. 0.]\n",
      " [0. 0.]]\n",
      "\n",
      "The 'ones' array:\n",
      " [[1. 1. 1. 1.]\n",
      " [1. 1. 1. 1.]]\n",
      "\n",
      "The 'full' array:\n",
      " [[[6. 6.]\n",
      "  [6. 6.]]\n",
      "\n",
      " [[6. 6.]\n",
      "  [6. 6.]]\n",
      "\n",
      " [[6. 6.]\n",
      "  [6. 6.]]]\n"
     ]
    }
   ],
   "source": [
    "zero = np.zeros(shape=(3, 2),dtype=float)\n",
    "print(\"The 'zeros' array:\\n\", zero)\n",
    "\n",
    "one = np.ones(shape=(2,4))\n",
    "print(\"\\nThe 'ones' array:\\n\", one)\n",
    "\n",
    "full = np.full(shape=(3,2,2), fill_value=6,dtype=float)\n",
    "print(\"\\nThe 'full' array:\\n\", full)"
   ]
  },
  {
   "cell_type": "markdown",
   "id": "f586e4eb",
   "metadata": {},
   "source": [
    "### 2 - linspace and arange\n",
    "\n",
    "If you need to create an array with a specific sequence, you can use `np.linspace` or `np.arange`.\n",
    "\n",
    "`linspace` takes 3 arguments: a **start**ing point, a **stop**ing and the **num**ber of values you want between those two points"
   ]
  },
  {
   "cell_type": "code",
   "execution_count": 121,
   "id": "5185b33b",
   "metadata": {},
   "outputs": [
    {
     "name": "stdout",
     "output_type": "stream",
     "text": [
      "linspace:\n",
      " [1. 2. 3. 4. 5. 6. 7. 8. 9.]\n"
     ]
    }
   ],
   "source": [
    "linspace_sequence = np.linspace(start=1, stop=9, num=9)\n",
    "print('linspace:\\n', linspace_sequence)"
   ]
  },
  {
   "cell_type": "markdown",
   "id": "31c59979",
   "metadata": {},
   "source": [
    "`arange` also takes 3 arguments: a **start**ing point, a **stop**ing but the $3^{rd}$ argument is the **step** size (who much should you increase between two consecutive value inside the array."
   ]
  },
  {
   "cell_type": "code",
   "execution_count": 122,
   "id": "51701734",
   "metadata": {},
   "outputs": [
    {
     "name": "stdout",
     "output_type": "stream",
     "text": [
      "arange\n",
      " [0.  0.5 1.  1.5 2.  2.5 3.  3.5 4.  4.5]\n"
     ]
    }
   ],
   "source": [
    "arange_sequence = np.arange(start=0, stop=5, step=0.5) # arange do not include the stoping point!\n",
    "print('arange\\n', arange_sequence)"
   ]
  },
  {
   "cell_type": "markdown",
   "id": "95e22dab",
   "metadata": {},
   "source": [
    "### 3 - shape\n",
    "\n",
    "you can access the shape of an array by using the `shape()` methods from `numpy`"
   ]
  },
  {
   "cell_type": "code",
   "execution_count": 123,
   "id": "ea714894",
   "metadata": {
    "scrolled": true
   },
   "outputs": [
    {
     "name": "stdout",
     "output_type": "stream",
     "text": [
      "shape of the array is:\n",
      " (3, 3)\n",
      "\n",
      "Compact version:\n",
      " (3, 3)\n"
     ]
    }
   ],
   "source": [
    "print('shape of the array is:\\n', np.shape(array_2D))\n",
    "\n",
    "# a more compact version, which give similar result is:\n",
    "print('\\nCompact version:\\n', array_2D.shape)"
   ]
  },
  {
   "cell_type": "markdown",
   "id": "2be9e517",
   "metadata": {},
   "source": [
    "### 4 - reshape\n",
    "\n",
    "`np.reshape()` will give a new shape to an array without changing its data. The new shape must be compatible with the original shape. "
   ]
  },
  {
   "cell_type": "code",
   "execution_count": 124,
   "id": "d44ce234",
   "metadata": {},
   "outputs": [
    {
     "name": "stdout",
     "output_type": "stream",
     "text": [
      "origine shape: (9,)\n",
      "original array:\n",
      " [1. 2. 3. 4. 5. 6. 7. 8. 9.]\n",
      "\n",
      "new shape: (3, 3)\n",
      "new array:\n",
      " [[1. 2. 3.]\n",
      " [4. 5. 6.]\n",
      " [7. 8. 9.]]\n"
     ]
    }
   ],
   "source": [
    "print('origine shape:', linspace_sequence.shape)\n",
    "print('original array:\\n', linspace_sequence)\n",
    "\n",
    "reshape_array = np.reshape(linspace_sequence, newshape=(3, 3))\n",
    "print('\\nnew shape:', reshape_array.shape)\n",
    "print('new array:\\n', reshape_array)"
   ]
  },
  {
   "cell_type": "markdown",
   "id": "5d906dd0",
   "metadata": {},
   "source": [
    "### 5 - min and max\n",
    "\n",
    "Return the min or max of the array."
   ]
  },
  {
   "cell_type": "code",
   "execution_count": 125,
   "id": "5067679c",
   "metadata": {},
   "outputs": [
    {
     "name": "stdout",
     "output_type": "stream",
     "text": [
      "The min value is:  0\n",
      "The max value is:  8\n"
     ]
    }
   ],
   "source": [
    "print('The min value is: ', np.min(array_2D))\n",
    "print('The max value is: ', array_2D.max())"
   ]
  },
  {
   "cell_type": "markdown",
   "id": "25b45d3b",
   "metadata": {},
   "source": [
    "### 6 - mean and standard deviation\n",
    "\n",
    "\n",
    "you can easily get the mean of an array by simply using `np.mean()`. If no arguments is specify, it will compute the mean of all the element in the array. Similarly, you can compute the standard deviation by using `np.std()`"
   ]
  },
  {
   "cell_type": "code",
   "execution_count": 126,
   "id": "f6ad6573",
   "metadata": {},
   "outputs": [
    {
     "name": "stdout",
     "output_type": "stream",
     "text": [
      "original 2D array:\n",
      " [[0 1 2]\n",
      " [3 4 5]\n",
      " [6 7 8]] \n",
      "\n",
      "mean = 4.0\n",
      "std. dev. = 2.581988897471611\n"
     ]
    }
   ],
   "source": [
    "print('original 2D array:\\n', array_2D, '\\n')\n",
    "\n",
    "print('mean =', np.mean(array_2D))\n",
    "print('std. dev. =', np.std(array_2D))"
   ]
  },
  {
   "cell_type": "markdown",
   "id": "15fcd21a",
   "metadata": {},
   "source": [
    "### 7 - square root\n",
    "\n",
    "By using the `np.sqrt()` method, you can compute the element-wise square root of an array:"
   ]
  },
  {
   "cell_type": "code",
   "execution_count": 127,
   "id": "a1b47f78",
   "metadata": {
    "scrolled": true
   },
   "outputs": [
    {
     "data": {
      "text/plain": [
       "array([[0.        , 1.        , 1.41421356],\n",
       "       [1.73205081, 2.        , 2.23606798],\n",
       "       [2.44948974, 2.64575131, 2.82842712]])"
      ]
     },
     "execution_count": 127,
     "metadata": {},
     "output_type": "execute_result"
    }
   ],
   "source": [
    "np.sqrt(array_2D)"
   ]
  },
  {
   "cell_type": "markdown",
   "id": "e707a3f9",
   "metadata": {},
   "source": [
    "### 8 - dot\n",
    "\n",
    "`np.dot()` return the dot product between two arrays\n",
    "\n",
    "$$\n",
    "\\begin{pmatrix}\n",
    "    a & b\\\\\n",
    "    c & d\n",
    "\\end{pmatrix}\n",
    "\\cdot\n",
    "\\begin{pmatrix}\n",
    "    e & f\\\\\n",
    "    g & h\n",
    "\\end{pmatrix}\n",
    "=\n",
    "\\begin{pmatrix}\n",
    "    ae + bg & af + bh\\\\\n",
    "    ce + dg & cf + dh \n",
    "\\end{pmatrix}\n",
    "$$"
   ]
  },
  {
   "cell_type": "code",
   "execution_count": 128,
   "id": "6c7723dd",
   "metadata": {},
   "outputs": [
    {
     "name": "stdout",
     "output_type": "stream",
     "text": [
      "1st array:\n",
      " [[1 2]\n",
      " [3 4]]\n",
      "\n",
      "2nd array:\n",
      " [[5. 6.]\n",
      " [7. 8.]]\n",
      "\n",
      "dot product array:\n",
      " [[19. 22.]\n",
      " [43. 50.]]\n"
     ]
    }
   ],
   "source": [
    "a =   np.arange(1, 5, 1).reshape(2, 2)\n",
    "b = np.linspace(5, 8, 4).reshape(2, 2)\n",
    "print('1st array:\\n', a)\n",
    "print('\\n2nd array:\\n', b)\n",
    "\n",
    "c = np.dot(a,b)\n",
    "print('\\ndot product array:\\n', c)"
   ]
  },
  {
   "cell_type": "markdown",
   "id": "d6e3880b",
   "metadata": {},
   "source": [
    "## Exercices:\n",
    "\n",
    "1. Create an array, call `big`, ranging from 0 to 100 and uniformily space with 6 elements in it, \n",
    "\n",
    "2. Create an array, call `small`, ranging from 10 to 0 with a step size of 2. you must include the starting and stoping points\n",
    "\n",
    "3. Reshape `big` with 3 rows and 2 columns and reshape `small` with 2 columns and 3 rows\n",
    "\n",
    "4. Compute the dot product between `big` and `small` call `prod`\n",
    "\n",
    "5. Print the min and max of each rows\n",
    "\n",
    "6. Using a for loop, compute the mean of the square root of `prod`, without using the build-in function from numpy and compare the results when using numpy"
   ]
  },
  {
   "cell_type": "code",
   "execution_count": 131,
   "id": "c8cea290",
   "metadata": {},
   "outputs": [
    {
     "name": "stdout",
     "output_type": "stream",
     "text": [
      "[  0.  20.  40.  60.  80. 100.]\n",
      "[10  8  6  4  2  0]\n",
      "[[  0.  20.]\n",
      " [ 40.  60.]\n",
      " [ 80. 100.]]\n",
      "[[10  8  6]\n",
      " [ 4  2  0]]\n",
      "[[  80.   40.    0.]\n",
      " [ 640.  440.  240.]\n",
      " [1200.  840.  480.]]\n",
      "max: [  80.  640. 1200.]\n",
      "min: [  0. 240. 480.]\n",
      "Manual calculation of mean square root: 18.063092311542082\n",
      "NumPy calculation of mean square root: 18.063092311542082\n"
     ]
    }
   ],
   "source": [
    "big = np.linspace(0,100,6)\n",
    "print(big)\n",
    "\n",
    "small = np.arange(10,0,-2)\n",
    "small = np.append(small,0)\n",
    "print(small)\n",
    "\n",
    "rsbig = np.reshape(big,(3,2))\n",
    "print(rsbig)\n",
    "resmall = np.reshape(small,(2,3))\n",
    "print(resmall)\n",
    "\n",
    "prod= np.dot(rsbig,resmall)\n",
    "print(prod)\n",
    "\n",
    "\n",
    "maxm = np.max(prod, axis=1)\n",
    "minm = np.min(prod, axis=1)\n",
    "print('max:', maxm)\n",
    "print('min:', minm)\n",
    "\n",
    "total_sqrt = 0\n",
    "num_elements = prod.size\n",
    "rprod = np.reshape(prod, 9)\n",
    "for value in rprod:\n",
    "    total_sqrt += np.sqrt(value)\n",
    "manual_mean_sqrt = total_sqrt / num_elements\n",
    "\n",
    "numpy_mean_sqrt = np.mean(np.sqrt(prod))\n",
    "\n",
    "print(\"Manual calculation of mean square root:\", manual_mean_sqrt)\n",
    "print(\"NumPy calculation of mean square root:\", numpy_mean_sqrt)\n"
   ]
  }
 ],
 "metadata": {
  "kernelspec": {
   "display_name": "Python 3 (ipykernel)",
   "language": "python",
   "name": "python3"
  },
  "language_info": {
   "codemirror_mode": {
    "name": "ipython",
    "version": 3
   },
   "file_extension": ".py",
   "mimetype": "text/x-python",
   "name": "python",
   "nbconvert_exporter": "python",
   "pygments_lexer": "ipython3",
   "version": "3.11.4"
  },
  "widgets": {
   "application/vnd.jupyter.widget-state+json": {
    "state": {
     "03cc50796771429ea1aaf835987170a0": {
      "model_module": "@jupyter-widgets/controls",
      "model_module_version": "2.0.0",
      "model_name": "TextStyleModel",
      "state": {
       "description_width": "",
       "font_size": null,
       "text_color": null
      }
     },
     "059ae187002747bfb8e21990ced3659d": {
      "model_module": "@jupyter-widgets/controls",
      "model_module_version": "2.0.0",
      "model_name": "CheckboxModel",
      "state": {
       "description": "sharey",
       "disabled": false,
       "layout": "IPY_MODEL_bc778b6ffc97412bb8be8391999af839",
       "style": "IPY_MODEL_a7f8a339c38e4e39913423409546c001",
       "value": false
      }
     },
     "06478edcba2b480f9494f03b51869032": {
      "model_module": "@jupyter-widgets/controls",
      "model_module_version": "2.0.0",
      "model_name": "CheckboxModel",
      "state": {
       "description": "sharey",
       "disabled": false,
       "layout": "IPY_MODEL_542ab0eab4c044ce82cbe83f1b31b52a",
       "style": "IPY_MODEL_1ec085daa08c480f9027e8eb44024ccc",
       "value": false
      }
     },
     "0a6d985eb96341659692c753a3a6a569": {
      "model_module": "@jupyter-widgets/controls",
      "model_module_version": "2.0.0",
      "model_name": "FloatRangeSliderModel",
      "state": {
       "_model_name": "FloatRangeSliderModel",
       "_view_name": "FloatRangeSliderView",
       "behavior": "drag-tap",
       "description": "xlim:",
       "layout": "IPY_MODEL_730130d7cd3f4f7a8dbeffa9460c8bdd",
       "max": 2,
       "min": -2,
       "readout_format": ".1f",
       "step": 0.1,
       "style": "IPY_MODEL_0aa415f9e872499b9af445b14aa1df79",
       "value": [
        -1,
        1
       ]
      }
     },
     "0aa415f9e872499b9af445b14aa1df79": {
      "model_module": "@jupyter-widgets/controls",
      "model_module_version": "2.0.0",
      "model_name": "SliderStyleModel",
      "state": {
       "description_width": ""
      }
     },
     "10c50cf5d8974cdeb38f69fbfa4b4c3e": {
      "model_module": "@jupyter-widgets/controls",
      "model_module_version": "2.0.0",
      "model_name": "SliderStyleModel",
      "state": {
       "description_width": ""
      }
     },
     "11585384010946438898b5fa46482aee": {
      "model_module": "@jupyter-widgets/base",
      "model_module_version": "2.0.0",
      "model_name": "LayoutModel",
      "state": {}
     },
     "1382b03c57654aaab0b32d0c3881b715": {
      "model_module": "@jupyter-widgets/base",
      "model_module_version": "2.0.0",
      "model_name": "LayoutModel",
      "state": {}
     },
     "13a8af48309e4d49a43068c7d65163e2": {
      "model_module": "@jupyter-widgets/controls",
      "model_module_version": "2.0.0",
      "model_name": "FloatSliderModel",
      "state": {
       "behavior": "drag-tap",
       "description": "linewidth",
       "layout": "IPY_MODEL_2210b2430a9f4edcbad05d4e3ae7d484",
       "max": 5,
       "step": 0.1,
       "style": "IPY_MODEL_3e944074748b4777a11c99a10e3ccdeb",
       "value": 2.5
      }
     },
     "1531770e51a949bf8bffdcc658341658": {
      "model_module": "@jupyter-widgets/controls",
      "model_module_version": "2.0.0",
      "model_name": "CheckboxStyleModel",
      "state": {
       "description_width": ""
      }
     },
     "156eaf40a6b24c6eb6c7c11b2f1e1c1e": {
      "model_module": "@jupyter-widgets/controls",
      "model_module_version": "2.0.0",
      "model_name": "DropdownModel",
      "state": {
       "_options_labels": [
        "best",
        "upper right",
        "upper left",
        "lower left",
        "lower right",
        "right",
        "center left",
        "center right",
        "lower center",
        "upper center",
        "center"
       ],
       "description": "loc",
       "index": 0,
       "layout": "IPY_MODEL_b79d1c5b418e4d2eb7e989292d55acf1",
       "style": "IPY_MODEL_40870b4c32c848ebb39f60be499f6dd3"
      }
     },
     "1570138fac734d6faad87f70c7843895": {
      "model_module": "@jupyter-widgets/controls",
      "model_module_version": "2.0.0",
      "model_name": "FloatSliderModel",
      "state": {
       "behavior": "drag-tap",
       "description": "alpha",
       "layout": "IPY_MODEL_f7c0d19fe2ae421992d45f9e8ff6050a",
       "max": 1,
       "step": 0.1,
       "style": "IPY_MODEL_a835f0774d0d4bb7bdef39afc5e40824",
       "value": 0.5
      }
     },
     "1cd448590fb9444fafa4c8d13ea74856": {
      "model_module": "@jupyter-widgets/controls",
      "model_module_version": "2.0.0",
      "model_name": "DropdownModel",
      "state": {
       "_options_labels": [
        ".",
        ",",
        "o",
        "v",
        "^",
        "<",
        ">",
        "1",
        "2",
        "3",
        "4",
        "8",
        "s",
        "p",
        "*",
        "h",
        "H",
        "+",
        "x",
        "D",
        "d",
        "|",
        "_",
        "P",
        "X",
        "0",
        "1",
        "2",
        "3",
        "4",
        "5",
        "6",
        "7",
        "8",
        "9",
        "10",
        "11",
        "None",
        "none",
        " ",
        ""
       ],
       "description": "marker",
       "index": 0,
       "layout": "IPY_MODEL_5a95f6a642ca465c80bbba423f7777b7",
       "style": "IPY_MODEL_275d3322da574bb8bcec68235b2c2cbf"
      }
     },
     "1e22cdf4a55a4b94ad62d2db00287227": {
      "model_module": "@jupyter-widgets/base",
      "model_module_version": "2.0.0",
      "model_name": "LayoutModel",
      "state": {}
     },
     "1e5ad64aa22046a48363e691763a7bb4": {
      "model_module": "@jupyter-widgets/base",
      "model_module_version": "2.0.0",
      "model_name": "LayoutModel",
      "state": {}
     },
     "1ec085daa08c480f9027e8eb44024ccc": {
      "model_module": "@jupyter-widgets/controls",
      "model_module_version": "2.0.0",
      "model_name": "CheckboxStyleModel",
      "state": {
       "description_width": ""
      }
     },
     "1f516e206c134892bdf781d8261fee39": {
      "model_module": "@jupyter-widgets/controls",
      "model_module_version": "2.0.0",
      "model_name": "DropdownModel",
      "state": {
       "_options_labels": [
        "tab:blue",
        "tab:orange",
        "tab:green",
        "tab:red",
        "tab:purple",
        "tab:brown",
        "tab:pink",
        "tab:gray",
        "tab:olive",
        "tab:cyan"
       ],
       "description": "color",
       "index": 0,
       "layout": "IPY_MODEL_adb3d4a6eb2847569299c326dcb91ba3",
       "style": "IPY_MODEL_b7469de217bb404e99e07bace947aebe"
      }
     },
     "1fb0fd19bcd04b619ac35465e1ef4480": {
      "model_module": "@jupyter-widgets/controls",
      "model_module_version": "2.0.0",
      "model_name": "IntSliderModel",
      "state": {
       "behavior": "drag-tap",
       "description": "nrows:",
       "layout": "IPY_MODEL_ce32c401b911454d80cc5500c7756fc6",
       "max": 3,
       "min": 1,
       "style": "IPY_MODEL_5a0347bd3cac4e14810a87adc218f9b3",
       "value": 1
      }
     },
     "1fb0feafc50d435b903a8331a01bcdb5": {
      "model_module": "@jupyter-widgets/base",
      "model_module_version": "2.0.0",
      "model_name": "LayoutModel",
      "state": {}
     },
     "2210b2430a9f4edcbad05d4e3ae7d484": {
      "model_module": "@jupyter-widgets/base",
      "model_module_version": "2.0.0",
      "model_name": "LayoutModel",
      "state": {}
     },
     "2214166828584994a4fb88442a191fc8": {
      "model_module": "@jupyter-widgets/controls",
      "model_module_version": "2.0.0",
      "model_name": "IntSliderModel",
      "state": {
       "behavior": "drag-tap",
       "description": "nrows:",
       "layout": "IPY_MODEL_984fa10aa1fa486f92e2c25c76d230bd",
       "max": 3,
       "min": 1,
       "style": "IPY_MODEL_9ab6fc3cefd34c73ae4dc0369c009cac",
       "value": 1
      }
     },
     "252f664570e84f23aea2522d2ff0ba12": {
      "model_module": "@jupyter-widgets/controls",
      "model_module_version": "2.0.0",
      "model_name": "TextModel",
      "state": {
       "description": "xlabel",
       "layout": "IPY_MODEL_3ef4966e33854f4898f6718bda71c0b1",
       "style": "IPY_MODEL_2ca2303f628c4aabb288acf5870727af",
       "value": "xlabel"
      }
     },
     "275d3322da574bb8bcec68235b2c2cbf": {
      "model_module": "@jupyter-widgets/controls",
      "model_module_version": "2.0.0",
      "model_name": "DescriptionStyleModel",
      "state": {
       "description_width": ""
      }
     },
     "29513f99ffc94a9db5ec7fee74570e53": {
      "model_module": "@jupyter-widgets/base",
      "model_module_version": "2.0.0",
      "model_name": "LayoutModel",
      "state": {}
     },
     "2ca2303f628c4aabb288acf5870727af": {
      "model_module": "@jupyter-widgets/controls",
      "model_module_version": "2.0.0",
      "model_name": "TextStyleModel",
      "state": {
       "description_width": "",
       "font_size": null,
       "text_color": null
      }
     },
     "2dde98cc5d394687bd3dc0fa4dcc2a6f": {
      "model_module": "@jupyter-widgets/base",
      "model_module_version": "2.0.0",
      "model_name": "LayoutModel",
      "state": {}
     },
     "2f70f3caca9a4358afa03e94c2db3d8d": {
      "model_module": "@jupyter-widgets/controls",
      "model_module_version": "2.0.0",
      "model_name": "TextModel",
      "state": {
       "description": "ylabel",
       "layout": "IPY_MODEL_7c621488b7074d88aa7e9451fbd08228",
       "style": "IPY_MODEL_c16c036d0a8d42f5b10c1b4389ba1ef4",
       "value": "ylabel"
      }
     },
     "2fb8ad2f56cb43bd94596dadff26b256": {
      "model_module": "@jupyter-widgets/controls",
      "model_module_version": "2.0.0",
      "model_name": "TextModel",
      "state": {
       "description": "xlabel",
       "layout": "IPY_MODEL_35a95cdc1b3342a5a699690d5167a2e1",
       "style": "IPY_MODEL_37ddf573396c4d31bdc7431f0eec65be",
       "value": "xlabel"
      }
     },
     "3085b2735d3d4633b214f4e9ecc2cdbb": {
      "model_module": "@jupyter-widgets/base",
      "model_module_version": "2.0.0",
      "model_name": "LayoutModel",
      "state": {}
     },
     "3383530f115e4161ac10c6ad2bffdf2d": {
      "model_module": "@jupyter-widgets/controls",
      "model_module_version": "2.0.0",
      "model_name": "VBoxModel",
      "state": {
       "_dom_classes": [
        "widget-interact"
       ],
       "children": [
        "IPY_MODEL_48abf7bd3056450d8906059ee54cc54a",
        "IPY_MODEL_a8f5f154ca114c5c92b9ce63ce495384",
        "IPY_MODEL_b08875b20d0843a0b7875edfbf677379",
        "IPY_MODEL_503c400e648943f6aede6aef497b72a1",
        "IPY_MODEL_9dc629a75c3c43f589fa163416aef825",
        "IPY_MODEL_8f15d874e5bb4322a98538cd080a9367"
       ],
       "layout": "IPY_MODEL_f7b7cbaa1b5f4348a9f32060427a4594"
      }
     },
     "35906490d6d64cc98138689327b655a0": {
      "model_module": "@jupyter-widgets/output",
      "model_module_version": "1.0.0",
      "model_name": "OutputModel",
      "state": {
       "layout": "IPY_MODEL_70efcabfed3a4010a553bf8ce1aaac20",
       "outputs": [
        {
         "data": {
          "image/png": "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",
          "text/plain": "<Figure size 640x480 with 1 Axes>"
         },
         "metadata": {},
         "output_type": "display_data"
        }
       ]
      }
     },
     "35a95cdc1b3342a5a699690d5167a2e1": {
      "model_module": "@jupyter-widgets/base",
      "model_module_version": "2.0.0",
      "model_name": "LayoutModel",
      "state": {}
     },
     "375c1fc4deb04e27b596694fcb3bf7b2": {
      "model_module": "@jupyter-widgets/base",
      "model_module_version": "2.0.0",
      "model_name": "LayoutModel",
      "state": {}
     },
     "37ddf573396c4d31bdc7431f0eec65be": {
      "model_module": "@jupyter-widgets/controls",
      "model_module_version": "2.0.0",
      "model_name": "TextStyleModel",
      "state": {
       "description_width": "",
       "font_size": null,
       "text_color": null
      }
     },
     "39079711e357461e83f208474c1962f1": {
      "model_module": "@jupyter-widgets/controls",
      "model_module_version": "2.0.0",
      "model_name": "DropdownModel",
      "state": {
       "_options_labels": [
        ".",
        ",",
        "o",
        "v",
        "^",
        "<",
        ">",
        "1",
        "2",
        "3",
        "4",
        "8",
        "s",
        "p",
        "*",
        "h",
        "H",
        "+",
        "x",
        "D",
        "d",
        "|",
        "_",
        "P",
        "X",
        "0",
        "1",
        "2",
        "3",
        "4",
        "5",
        "6",
        "7",
        "8",
        "9",
        "10",
        "11",
        "None",
        "none",
        " ",
        ""
       ],
       "description": "marker",
       "index": 0,
       "layout": "IPY_MODEL_3085b2735d3d4633b214f4e9ecc2cdbb",
       "style": "IPY_MODEL_801513261600433b91b89b0596ef228a"
      }
     },
     "3c24835c74b9431fabd543652e5370ad": {
      "model_module": "@jupyter-widgets/controls",
      "model_module_version": "2.0.0",
      "model_name": "DropdownModel",
      "state": {
       "_options_labels": [
        "best",
        "upper right",
        "upper left",
        "lower left",
        "lower right",
        "right",
        "center left",
        "center right",
        "lower center",
        "upper center",
        "center"
       ],
       "description": "loc",
       "index": 0,
       "layout": "IPY_MODEL_1fb0feafc50d435b903a8331a01bcdb5",
       "style": "IPY_MODEL_dce6348dd3ed4e8a92eb95eac4e0156f"
      }
     },
     "3e944074748b4777a11c99a10e3ccdeb": {
      "model_module": "@jupyter-widgets/controls",
      "model_module_version": "2.0.0",
      "model_name": "SliderStyleModel",
      "state": {
       "description_width": ""
      }
     },
     "3ef4966e33854f4898f6718bda71c0b1": {
      "model_module": "@jupyter-widgets/base",
      "model_module_version": "2.0.0",
      "model_name": "LayoutModel",
      "state": {}
     },
     "40870b4c32c848ebb39f60be499f6dd3": {
      "model_module": "@jupyter-widgets/controls",
      "model_module_version": "2.0.0",
      "model_name": "DescriptionStyleModel",
      "state": {
       "description_width": ""
      }
     },
     "44ac2a1ff72241deb98b7e707b9eac5c": {
      "model_module": "@jupyter-widgets/controls",
      "model_module_version": "2.0.0",
      "model_name": "IntSliderModel",
      "state": {
       "behavior": "drag-tap",
       "description": "ncols:",
       "layout": "IPY_MODEL_11585384010946438898b5fa46482aee",
       "max": 3,
       "min": 1,
       "style": "IPY_MODEL_edd0dfd1ee6b4ec5886c9bda0d5fd814",
       "value": 1
      }
     },
     "4520d835ae4c48c1af2082c4c4e64361": {
      "model_module": "@jupyter-widgets/base",
      "model_module_version": "2.0.0",
      "model_name": "LayoutModel",
      "state": {}
     },
     "461227a3c05140fba52c4cb3d01bce02": {
      "model_module": "@jupyter-widgets/base",
      "model_module_version": "2.0.0",
      "model_name": "LayoutModel",
      "state": {}
     },
     "47c0fc04ed47412a9b0285cb70c6891a": {
      "model_module": "@jupyter-widgets/base",
      "model_module_version": "2.0.0",
      "model_name": "LayoutModel",
      "state": {}
     },
     "48abf7bd3056450d8906059ee54cc54a": {
      "model_module": "@jupyter-widgets/controls",
      "model_module_version": "2.0.0",
      "model_name": "DropdownModel",
      "state": {
       "_options_labels": [
        ".",
        ",",
        "o",
        "v",
        "^",
        "<",
        ">",
        "1",
        "2",
        "3",
        "4",
        "8",
        "s",
        "p",
        "*",
        "h",
        "H",
        "+",
        "x",
        "D",
        "d",
        "|",
        "_",
        "P",
        "X",
        "0",
        "1",
        "2",
        "3",
        "4",
        "5",
        "6",
        "7",
        "8",
        "9",
        "10",
        "11",
        "None",
        "none",
        " ",
        ""
       ],
       "description": "marker",
       "index": 0,
       "layout": "IPY_MODEL_7e740df0ad0441ef8f3c38cef3704401",
       "style": "IPY_MODEL_bbff6767e6b94fdf9aa6154c7fafa344"
      }
     },
     "4b1c311943fa4769bd6b09ec08e44598": {
      "model_module": "@jupyter-widgets/base",
      "model_module_version": "2.0.0",
      "model_name": "LayoutModel",
      "state": {}
     },
     "4b27db821c5f4271bd280ecd4f339fe5": {
      "model_module": "@jupyter-widgets/controls",
      "model_module_version": "2.0.0",
      "model_name": "FloatRangeSliderModel",
      "state": {
       "_model_name": "FloatRangeSliderModel",
       "_view_name": "FloatRangeSliderView",
       "behavior": "drag-tap",
       "description": "ylim:",
       "layout": "IPY_MODEL_2dde98cc5d394687bd3dc0fa4dcc2a6f",
       "max": 2,
       "min": -2,
       "readout_format": ".1f",
       "step": 0.1,
       "style": "IPY_MODEL_a22db39f06cd4cda8df93f8ec2d217f0",
       "value": [
        -1,
        1
       ]
      }
     },
     "4b9bc2b2e41e429bb5b8df0b974900a8": {
      "model_module": "@jupyter-widgets/base",
      "model_module_version": "2.0.0",
      "model_name": "LayoutModel",
      "state": {}
     },
     "4cd05cbc1d1840fa902e57319607546a": {
      "model_module": "@jupyter-widgets/controls",
      "model_module_version": "2.0.0",
      "model_name": "DescriptionStyleModel",
      "state": {
       "description_width": ""
      }
     },
     "503c400e648943f6aede6aef497b72a1": {
      "model_module": "@jupyter-widgets/controls",
      "model_module_version": "2.0.0",
      "model_name": "DropdownModel",
      "state": {
       "_options_labels": [
        "tab:blue",
        "tab:orange",
        "tab:green",
        "tab:red",
        "tab:purple",
        "tab:brown",
        "tab:pink",
        "tab:gray",
        "tab:olive",
        "tab:cyan"
       ],
       "description": "color",
       "index": 0,
       "layout": "IPY_MODEL_e3ae8979a6e44f9fb954ddb57bd8aed9",
       "style": "IPY_MODEL_713c71273c564170b9209dc7dbf1f610"
      }
     },
     "529e9e2ebb1840ac8172c564e5853acf": {
      "model_module": "@jupyter-widgets/controls",
      "model_module_version": "2.0.0",
      "model_name": "CheckboxModel",
      "state": {
       "description": "sharex",
       "disabled": false,
       "layout": "IPY_MODEL_7a7474138ae84481b2ef7ecfac092b30",
       "style": "IPY_MODEL_c21a7fc0de374ca2b2b5831e57100fb9",
       "value": false
      }
     },
     "531be66a629f444f913c67487b6632b7": {
      "model_module": "@jupyter-widgets/controls",
      "model_module_version": "2.0.0",
      "model_name": "VBoxModel",
      "state": {
       "_dom_classes": [
        "widget-interact"
       ],
       "children": [
        "IPY_MODEL_1fb0fd19bcd04b619ac35465e1ef4480",
        "IPY_MODEL_fb7b66a7b69d472ba807dac085ae976d",
        "IPY_MODEL_529e9e2ebb1840ac8172c564e5853acf",
        "IPY_MODEL_06478edcba2b480f9494f03b51869032",
        "IPY_MODEL_8fdda98f5435420890dd4876a8abbcd6"
       ],
       "layout": "IPY_MODEL_54396a70772f40f3b0a41511ec2465c8"
      }
     },
     "542ab0eab4c044ce82cbe83f1b31b52a": {
      "model_module": "@jupyter-widgets/base",
      "model_module_version": "2.0.0",
      "model_name": "LayoutModel",
      "state": {}
     },
     "54396a70772f40f3b0a41511ec2465c8": {
      "model_module": "@jupyter-widgets/base",
      "model_module_version": "2.0.0",
      "model_name": "LayoutModel",
      "state": {}
     },
     "5489fa48c7b74d35b7ad6411b8b0d851": {
      "model_module": "@jupyter-widgets/controls",
      "model_module_version": "2.0.0",
      "model_name": "VBoxModel",
      "state": {
       "_dom_classes": [
        "widget-interact"
       ],
       "children": [
        "IPY_MODEL_1cd448590fb9444fafa4c8d13ea74856",
        "IPY_MODEL_b11d81a1c46b4ed8bd8359ff9f78e1c4",
        "IPY_MODEL_fb23085d1f3d46f591ce711a8c8dc4e3",
        "IPY_MODEL_1f516e206c134892bdf781d8261fee39",
        "IPY_MODEL_1570138fac734d6faad87f70c7843895",
        "IPY_MODEL_8cbf543753e54ed09133147439a455e7"
       ],
       "layout": "IPY_MODEL_c4d177f7419543a8b5ef93100a457831"
      }
     },
     "55676d80efac435face6c2230dfa7d76": {
      "model_module": "@jupyter-widgets/controls",
      "model_module_version": "2.0.0",
      "model_name": "TextModel",
      "state": {
       "description": "ylabel",
       "layout": "IPY_MODEL_846887eb74884111b6cb5f9c5d2c4086",
       "style": "IPY_MODEL_e52b3556fef442b5a7b7a34b11c2d79b",
       "value": "ylabel"
      }
     },
     "57543be8ca2741aca2a9fcf23a634707": {
      "model_module": "@jupyter-widgets/base",
      "model_module_version": "2.0.0",
      "model_name": "LayoutModel",
      "state": {}
     },
     "5a0347bd3cac4e14810a87adc218f9b3": {
      "model_module": "@jupyter-widgets/controls",
      "model_module_version": "2.0.0",
      "model_name": "SliderStyleModel",
      "state": {
       "description_width": ""
      }
     },
     "5a95f6a642ca465c80bbba423f7777b7": {
      "model_module": "@jupyter-widgets/base",
      "model_module_version": "2.0.0",
      "model_name": "LayoutModel",
      "state": {}
     },
     "5b20e76e1b784a7686f2b38d5d6f7862": {
      "model_module": "@jupyter-widgets/controls",
      "model_module_version": "2.0.0",
      "model_name": "SliderStyleModel",
      "state": {
       "description_width": ""
      }
     },
     "5bbfa059c4ff4672a331b04bcf793a99": {
      "model_module": "@jupyter-widgets/base",
      "model_module_version": "2.0.0",
      "model_name": "LayoutModel",
      "state": {}
     },
     "5f656f1aeabc480183a4ce7e2cdf9568": {
      "model_module": "@jupyter-widgets/base",
      "model_module_version": "2.0.0",
      "model_name": "LayoutModel",
      "state": {}
     },
     "6086be10c0514802b36bc101cab6570c": {
      "model_module": "@jupyter-widgets/controls",
      "model_module_version": "2.0.0",
      "model_name": "TextStyleModel",
      "state": {
       "description_width": "",
       "font_size": null,
       "text_color": null
      }
     },
     "61efbef5fd244b7a9ea74e2bc0de1ba2": {
      "model_module": "@jupyter-widgets/controls",
      "model_module_version": "2.0.0",
      "model_name": "TextModel",
      "state": {
       "description": "Title",
       "layout": "IPY_MODEL_cffce1b1d1a544069f6081e8cb25c876",
       "style": "IPY_MODEL_a32c8a5ac08d4368b8d855835fe1d820",
       "value": "title"
      }
     },
     "65d8d411464c48ba81b5443426f4e87d": {
      "model_module": "@jupyter-widgets/base",
      "model_module_version": "2.0.0",
      "model_name": "LayoutModel",
      "state": {}
     },
     "6742c5758bec4321b00b551c5193d817": {
      "model_module": "@jupyter-widgets/controls",
      "model_module_version": "2.0.0",
      "model_name": "DropdownModel",
      "state": {
       "_options_labels": [
        "-",
        "--",
        "-.",
        ":",
        "None",
        " ",
        ""
       ],
       "description": "linstyle",
       "index": 0,
       "layout": "IPY_MODEL_65d8d411464c48ba81b5443426f4e87d",
       "style": "IPY_MODEL_d3d880874ca14ab0abbe92a894e71448"
      }
     },
     "6eee17892ec840a28ab89b4fd8d303cc": {
      "model_module": "@jupyter-widgets/base",
      "model_module_version": "2.0.0",
      "model_name": "LayoutModel",
      "state": {}
     },
     "70d1dac8eda94901a3ff2e6c8c030929": {
      "model_module": "@jupyter-widgets/base",
      "model_module_version": "2.0.0",
      "model_name": "LayoutModel",
      "state": {}
     },
     "70efcabfed3a4010a553bf8ce1aaac20": {
      "model_module": "@jupyter-widgets/base",
      "model_module_version": "2.0.0",
      "model_name": "LayoutModel",
      "state": {}
     },
     "713c71273c564170b9209dc7dbf1f610": {
      "model_module": "@jupyter-widgets/controls",
      "model_module_version": "2.0.0",
      "model_name": "DescriptionStyleModel",
      "state": {
       "description_width": ""
      }
     },
     "730130d7cd3f4f7a8dbeffa9460c8bdd": {
      "model_module": "@jupyter-widgets/base",
      "model_module_version": "2.0.0",
      "model_name": "LayoutModel",
      "state": {}
     },
     "750adf66cd1c48f9985c3e653f594b1e": {
      "model_module": "@jupyter-widgets/controls",
      "model_module_version": "2.0.0",
      "model_name": "TextModel",
      "state": {
       "description": "ylabel",
       "layout": "IPY_MODEL_375c1fc4deb04e27b596694fcb3bf7b2",
       "style": "IPY_MODEL_03cc50796771429ea1aaf835987170a0",
       "value": "ylabel"
      }
     },
     "775ff9d3a80b4eeda4fa814b086f3597": {
      "model_module": "@jupyter-widgets/controls",
      "model_module_version": "2.0.0",
      "model_name": "CheckboxModel",
      "state": {
       "description": "sharex",
       "disabled": false,
       "layout": "IPY_MODEL_a2343f497d5f41cabd4e9839c9af2fa5",
       "style": "IPY_MODEL_1531770e51a949bf8bffdcc658341658",
       "value": false
      }
     },
     "7a2dd98aeda64f4e8a16b34ef1fb6c54": {
      "model_module": "@jupyter-widgets/controls",
      "model_module_version": "2.0.0",
      "model_name": "FloatRangeSliderModel",
      "state": {
       "_model_name": "FloatRangeSliderModel",
       "_view_name": "FloatRangeSliderView",
       "behavior": "drag-tap",
       "description": "xlim:",
       "layout": "IPY_MODEL_5f656f1aeabc480183a4ce7e2cdf9568",
       "max": 2,
       "min": -2,
       "readout_format": ".1f",
       "step": 0.1,
       "style": "IPY_MODEL_5b20e76e1b784a7686f2b38d5d6f7862",
       "value": [
        -1,
        1
       ]
      }
     },
     "7a7474138ae84481b2ef7ecfac092b30": {
      "model_module": "@jupyter-widgets/base",
      "model_module_version": "2.0.0",
      "model_name": "LayoutModel",
      "state": {}
     },
     "7c621488b7074d88aa7e9451fbd08228": {
      "model_module": "@jupyter-widgets/base",
      "model_module_version": "2.0.0",
      "model_name": "LayoutModel",
      "state": {}
     },
     "7dc185812f8a410089a47cf6428709d1": {
      "model_module": "@jupyter-widgets/base",
      "model_module_version": "2.0.0",
      "model_name": "LayoutModel",
      "state": {}
     },
     "7e740df0ad0441ef8f3c38cef3704401": {
      "model_module": "@jupyter-widgets/base",
      "model_module_version": "2.0.0",
      "model_name": "LayoutModel",
      "state": {}
     },
     "801513261600433b91b89b0596ef228a": {
      "model_module": "@jupyter-widgets/controls",
      "model_module_version": "2.0.0",
      "model_name": "DescriptionStyleModel",
      "state": {
       "description_width": ""
      }
     },
     "82a0196f459b4d31871344791ac49c65": {
      "model_module": "@jupyter-widgets/base",
      "model_module_version": "2.0.0",
      "model_name": "LayoutModel",
      "state": {}
     },
     "833fa6daac3d4b44b78d48a774a69b18": {
      "model_module": "@jupyter-widgets/base",
      "model_module_version": "2.0.0",
      "model_name": "LayoutModel",
      "state": {}
     },
     "834684e074c046d0a9b32b17dbaeb92e": {
      "model_module": "@jupyter-widgets/base",
      "model_module_version": "2.0.0",
      "model_name": "LayoutModel",
      "state": {}
     },
     "8421d3d52e5d48cfa762086b1ede0e3d": {
      "model_module": "@jupyter-widgets/controls",
      "model_module_version": "2.0.0",
      "model_name": "TextStyleModel",
      "state": {
       "description_width": "",
       "font_size": null,
       "text_color": null
      }
     },
     "846887eb74884111b6cb5f9c5d2c4086": {
      "model_module": "@jupyter-widgets/base",
      "model_module_version": "2.0.0",
      "model_name": "LayoutModel",
      "state": {}
     },
     "868287d5e49140ab83163225fbf03f7f": {
      "model_module": "@jupyter-widgets/controls",
      "model_module_version": "2.0.0",
      "model_name": "VBoxModel",
      "state": {
       "_dom_classes": [
        "widget-interact"
       ],
       "children": [
        "IPY_MODEL_39079711e357461e83f208474c1962f1",
        "IPY_MODEL_6742c5758bec4321b00b551c5193d817",
        "IPY_MODEL_13a8af48309e4d49a43068c7d65163e2",
        "IPY_MODEL_e6f4352ae94a4a2687182bbf1468ba77",
        "IPY_MODEL_9bc33595cc3f4155887077ae1ba66a9c",
        "IPY_MODEL_aef9ec8cb2b0407e8719d00ba2de7741"
       ],
       "layout": "IPY_MODEL_acbdcc34b55249df94878d49a5e65781"
      }
     },
     "875733d6eee84a7e9395786e8a7ab0b6": {
      "model_module": "@jupyter-widgets/controls",
      "model_module_version": "2.0.0",
      "model_name": "FloatRangeSliderModel",
      "state": {
       "_model_name": "FloatRangeSliderModel",
       "_view_name": "FloatRangeSliderView",
       "behavior": "drag-tap",
       "description": "ylim:",
       "layout": "IPY_MODEL_5bbfa059c4ff4672a331b04bcf793a99",
       "max": 2,
       "min": -2,
       "readout_format": ".1f",
       "step": 0.1,
       "style": "IPY_MODEL_95d32670b6e949b893b3c504d606df6a",
       "value": [
        -1,
        1
       ]
      }
     },
     "8cbf543753e54ed09133147439a455e7": {
      "model_module": "@jupyter-widgets/output",
      "model_module_version": "1.0.0",
      "model_name": "OutputModel",
      "state": {
       "layout": "IPY_MODEL_4520d835ae4c48c1af2082c4c4e64361",
       "outputs": [
        {
         "data": {
          "image/png": "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",
          "text/plain": "<Figure size 640x480 with 1 Axes>"
         },
         "metadata": {},
         "output_type": "display_data"
        },
        {
         "name": "stderr",
         "output_type": "stream",
         "text": "No such comm: 8cbf543753e54ed09133147439a455e7\n"
        }
       ]
      }
     },
     "8f15d874e5bb4322a98538cd080a9367": {
      "model_module": "@jupyter-widgets/output",
      "model_module_version": "1.0.0",
      "model_name": "OutputModel",
      "state": {
       "layout": "IPY_MODEL_1e5ad64aa22046a48363e691763a7bb4",
       "outputs": [
        {
         "data": {
          "image/png": "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",
          "text/plain": "<Figure size 640x480 with 1 Axes>"
         },
         "metadata": {},
         "output_type": "display_data"
        }
       ]
      }
     },
     "8fdda98f5435420890dd4876a8abbcd6": {
      "model_module": "@jupyter-widgets/output",
      "model_module_version": "1.0.0",
      "model_name": "OutputModel",
      "state": {
       "layout": "IPY_MODEL_833fa6daac3d4b44b78d48a774a69b18",
       "outputs": [
        {
         "data": {
          "image/png": "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",
          "text/plain": "<Figure size 200x200 with 1 Axes>"
         },
         "metadata": {},
         "output_type": "display_data"
        },
        {
         "name": "stderr",
         "output_type": "stream",
         "text": "No such comm: 8fdda98f5435420890dd4876a8abbcd6\n"
        }
       ]
      }
     },
     "9110d4cddf79413aa38d0f057281d136": {
      "model_module": "@jupyter-widgets/controls",
      "model_module_version": "2.0.0",
      "model_name": "TextModel",
      "state": {
       "description": "Title",
       "layout": "IPY_MODEL_834684e074c046d0a9b32b17dbaeb92e",
       "style": "IPY_MODEL_d49a5c1487ca4058b87f07a8a94893fe",
       "value": "title"
      }
     },
     "933a284f1a164126bdfc7a4be31b001a": {
      "model_module": "@jupyter-widgets/controls",
      "model_module_version": "2.0.0",
      "model_name": "TextModel",
      "state": {
       "description": "xlabel",
       "layout": "IPY_MODEL_b02706cf88be43c7816af426e7d30499",
       "style": "IPY_MODEL_8421d3d52e5d48cfa762086b1ede0e3d",
       "value": "xlabel"
      }
     },
     "95d32670b6e949b893b3c504d606df6a": {
      "model_module": "@jupyter-widgets/controls",
      "model_module_version": "2.0.0",
      "model_name": "SliderStyleModel",
      "state": {
       "description_width": ""
      }
     },
     "96697c6c56184a6e8e68aa0c9041f1b9": {
      "model_module": "@jupyter-widgets/controls",
      "model_module_version": "2.0.0",
      "model_name": "FloatRangeSliderModel",
      "state": {
       "_model_name": "FloatRangeSliderModel",
       "_view_name": "FloatRangeSliderView",
       "behavior": "drag-tap",
       "description": "ylim:",
       "layout": "IPY_MODEL_ac85a8aacdd34037a03aa6d4b3f5b1f4",
       "max": 2,
       "min": -2,
       "readout_format": ".1f",
       "step": 0.1,
       "style": "IPY_MODEL_b9d293ce6d424fadbce782a24c2877a2",
       "value": [
        -1,
        1
       ]
      }
     },
     "98463d772ea743e3bd6c8198cd099a4d": {
      "model_module": "@jupyter-widgets/controls",
      "model_module_version": "2.0.0",
      "model_name": "VBoxModel",
      "state": {
       "_dom_classes": [
        "widget-interact"
       ],
       "children": [
        "IPY_MODEL_156eaf40a6b24c6eb6c7c11b2f1e1c1e",
        "IPY_MODEL_0a6d985eb96341659692c753a3a6a569",
        "IPY_MODEL_875733d6eee84a7e9395786e8a7ab0b6",
        "IPY_MODEL_f4c82b9066394f9b86c5654c5024b780",
        "IPY_MODEL_2fb8ad2f56cb43bd94596dadff26b256",
        "IPY_MODEL_750adf66cd1c48f9985c3e653f594b1e",
        "IPY_MODEL_fb0b85e6c953467aafdfa59db1b81688"
       ],
       "layout": "IPY_MODEL_cd01ed7b6cb841ce8ce77e52143c5896"
      }
     },
     "984fa10aa1fa486f92e2c25c76d230bd": {
      "model_module": "@jupyter-widgets/base",
      "model_module_version": "2.0.0",
      "model_name": "LayoutModel",
      "state": {}
     },
     "9ab6fc3cefd34c73ae4dc0369c009cac": {
      "model_module": "@jupyter-widgets/controls",
      "model_module_version": "2.0.0",
      "model_name": "SliderStyleModel",
      "state": {
       "description_width": ""
      }
     },
     "9bc33595cc3f4155887077ae1ba66a9c": {
      "model_module": "@jupyter-widgets/controls",
      "model_module_version": "2.0.0",
      "model_name": "FloatSliderModel",
      "state": {
       "behavior": "drag-tap",
       "description": "alpha",
       "layout": "IPY_MODEL_461227a3c05140fba52c4cb3d01bce02",
       "max": 1,
       "step": 0.1,
       "style": "IPY_MODEL_c95ab7736a83441f9ed9906e69d5ee44",
       "value": 0.5
      }
     },
     "9dc629a75c3c43f589fa163416aef825": {
      "model_module": "@jupyter-widgets/controls",
      "model_module_version": "2.0.0",
      "model_name": "FloatSliderModel",
      "state": {
       "behavior": "drag-tap",
       "description": "alpha",
       "layout": "IPY_MODEL_1e22cdf4a55a4b94ad62d2db00287227",
       "max": 1,
       "step": 0.1,
       "style": "IPY_MODEL_d5bb18ea4c77438da8d55277f3cfd796",
       "value": 0.5
      }
     },
     "a0c74b638d5a46e5a3a09b8df06670bb": {
      "model_module": "@jupyter-widgets/controls",
      "model_module_version": "2.0.0",
      "model_name": "SliderStyleModel",
      "state": {
       "description_width": ""
      }
     },
     "a22db39f06cd4cda8df93f8ec2d217f0": {
      "model_module": "@jupyter-widgets/controls",
      "model_module_version": "2.0.0",
      "model_name": "SliderStyleModel",
      "state": {
       "description_width": ""
      }
     },
     "a2343f497d5f41cabd4e9839c9af2fa5": {
      "model_module": "@jupyter-widgets/base",
      "model_module_version": "2.0.0",
      "model_name": "LayoutModel",
      "state": {}
     },
     "a32c8a5ac08d4368b8d855835fe1d820": {
      "model_module": "@jupyter-widgets/controls",
      "model_module_version": "2.0.0",
      "model_name": "TextStyleModel",
      "state": {
       "description_width": "",
       "font_size": null,
       "text_color": null
      }
     },
     "a42633ee1b1b4ec4a069f9e45fb37168": {
      "model_module": "@jupyter-widgets/controls",
      "model_module_version": "2.0.0",
      "model_name": "VBoxModel",
      "state": {
       "_dom_classes": [
        "widget-interact"
       ],
       "children": [
        "IPY_MODEL_fdc38a7776fe44f78c7a7f777ad8097d",
        "IPY_MODEL_7a2dd98aeda64f4e8a16b34ef1fb6c54",
        "IPY_MODEL_4b27db821c5f4271bd280ecd4f339fe5",
        "IPY_MODEL_9110d4cddf79413aa38d0f057281d136",
        "IPY_MODEL_933a284f1a164126bdfc7a4be31b001a",
        "IPY_MODEL_55676d80efac435face6c2230dfa7d76",
        "IPY_MODEL_35906490d6d64cc98138689327b655a0"
       ],
       "layout": "IPY_MODEL_57543be8ca2741aca2a9fcf23a634707"
      }
     },
     "a6078fb5ed7e45eb8cd51e6925dcedec": {
      "model_module": "@jupyter-widgets/controls",
      "model_module_version": "2.0.0",
      "model_name": "VBoxModel",
      "state": {
       "_dom_classes": [
        "widget-interact"
       ],
       "children": [
        "IPY_MODEL_2214166828584994a4fb88442a191fc8",
        "IPY_MODEL_44ac2a1ff72241deb98b7e707b9eac5c",
        "IPY_MODEL_775ff9d3a80b4eeda4fa814b086f3597",
        "IPY_MODEL_059ae187002747bfb8e21990ced3659d",
        "IPY_MODEL_d4a9f52c2e7249fa8d5a31d15b7a310f"
       ],
       "layout": "IPY_MODEL_b4a69f5465994932bdbc5e968ebe1618"
      }
     },
     "a7f8a339c38e4e39913423409546c001": {
      "model_module": "@jupyter-widgets/controls",
      "model_module_version": "2.0.0",
      "model_name": "CheckboxStyleModel",
      "state": {
       "description_width": ""
      }
     },
     "a835f0774d0d4bb7bdef39afc5e40824": {
      "model_module": "@jupyter-widgets/controls",
      "model_module_version": "2.0.0",
      "model_name": "SliderStyleModel",
      "state": {
       "description_width": ""
      }
     },
     "a8f5f154ca114c5c92b9ce63ce495384": {
      "model_module": "@jupyter-widgets/controls",
      "model_module_version": "2.0.0",
      "model_name": "DropdownModel",
      "state": {
       "_options_labels": [
        "-",
        "--",
        "-.",
        ":",
        "None",
        " ",
        ""
       ],
       "description": "linstyle",
       "index": 0,
       "layout": "IPY_MODEL_7dc185812f8a410089a47cf6428709d1",
       "style": "IPY_MODEL_4cd05cbc1d1840fa902e57319607546a"
      }
     },
     "ac85a8aacdd34037a03aa6d4b3f5b1f4": {
      "model_module": "@jupyter-widgets/base",
      "model_module_version": "2.0.0",
      "model_name": "LayoutModel",
      "state": {}
     },
     "acbdcc34b55249df94878d49a5e65781": {
      "model_module": "@jupyter-widgets/base",
      "model_module_version": "2.0.0",
      "model_name": "LayoutModel",
      "state": {}
     },
     "adb3d4a6eb2847569299c326dcb91ba3": {
      "model_module": "@jupyter-widgets/base",
      "model_module_version": "2.0.0",
      "model_name": "LayoutModel",
      "state": {}
     },
     "adf73030b6f240a39b73aa53650fdbf5": {
      "model_module": "@jupyter-widgets/controls",
      "model_module_version": "2.0.0",
      "model_name": "VBoxModel",
      "state": {
       "_dom_classes": [
        "widget-interact"
       ],
       "children": [
        "IPY_MODEL_3c24835c74b9431fabd543652e5370ad",
        "IPY_MODEL_ae072a9be970485b83dd58cd5d952935",
        "IPY_MODEL_96697c6c56184a6e8e68aa0c9041f1b9",
        "IPY_MODEL_61efbef5fd244b7a9ea74e2bc0de1ba2",
        "IPY_MODEL_252f664570e84f23aea2522d2ff0ba12",
        "IPY_MODEL_2f70f3caca9a4358afa03e94c2db3d8d",
        "IPY_MODEL_fd8a1c51ee9a4468bf108237f498b72c"
       ],
       "layout": "IPY_MODEL_ef50bb9975194c0ab7c6c4c5e1ad54a3"
      }
     },
     "ae072a9be970485b83dd58cd5d952935": {
      "model_module": "@jupyter-widgets/controls",
      "model_module_version": "2.0.0",
      "model_name": "FloatRangeSliderModel",
      "state": {
       "_model_name": "FloatRangeSliderModel",
       "_view_name": "FloatRangeSliderView",
       "behavior": "drag-tap",
       "description": "xlim:",
       "layout": "IPY_MODEL_c0cf5e2908014c7b8f2b497ffd103ba2",
       "max": 2,
       "min": -2,
       "readout_format": ".1f",
       "step": 0.1,
       "style": "IPY_MODEL_a0c74b638d5a46e5a3a09b8df06670bb",
       "value": [
        -1,
        1
       ]
      }
     },
     "aef9ec8cb2b0407e8719d00ba2de7741": {
      "model_module": "@jupyter-widgets/output",
      "model_module_version": "1.0.0",
      "model_name": "OutputModel",
      "state": {
       "layout": "IPY_MODEL_70d1dac8eda94901a3ff2e6c8c030929",
       "outputs": [
        {
         "data": {
          "image/png": "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",
          "text/plain": "<Figure size 640x480 with 1 Axes>"
         },
         "metadata": {},
         "output_type": "display_data"
        }
       ]
      }
     },
     "b02706cf88be43c7816af426e7d30499": {
      "model_module": "@jupyter-widgets/base",
      "model_module_version": "2.0.0",
      "model_name": "LayoutModel",
      "state": {}
     },
     "b08875b20d0843a0b7875edfbf677379": {
      "model_module": "@jupyter-widgets/controls",
      "model_module_version": "2.0.0",
      "model_name": "FloatSliderModel",
      "state": {
       "behavior": "drag-tap",
       "description": "linewidth",
       "layout": "IPY_MODEL_29513f99ffc94a9db5ec7fee74570e53",
       "max": 5,
       "step": 0.1,
       "style": "IPY_MODEL_10c50cf5d8974cdeb38f69fbfa4b4c3e",
       "value": 2.5
      }
     },
     "b0d7c7433f4548eb8d5ec1a966f926e9": {
      "model_module": "@jupyter-widgets/controls",
      "model_module_version": "2.0.0",
      "model_name": "DescriptionStyleModel",
      "state": {
       "description_width": ""
      }
     },
     "b11d81a1c46b4ed8bd8359ff9f78e1c4": {
      "model_module": "@jupyter-widgets/controls",
      "model_module_version": "2.0.0",
      "model_name": "DropdownModel",
      "state": {
       "_options_labels": [
        "-",
        "--",
        "-.",
        ":",
        "None",
        " ",
        ""
       ],
       "description": "linstyle",
       "index": 0,
       "layout": "IPY_MODEL_c24bcaead5c94b29ba800566892fd4c5",
       "style": "IPY_MODEL_c4890de8181a495a909a73e062bc0d63"
      }
     },
     "b4a69f5465994932bdbc5e968ebe1618": {
      "model_module": "@jupyter-widgets/base",
      "model_module_version": "2.0.0",
      "model_name": "LayoutModel",
      "state": {}
     },
     "b7469de217bb404e99e07bace947aebe": {
      "model_module": "@jupyter-widgets/controls",
      "model_module_version": "2.0.0",
      "model_name": "DescriptionStyleModel",
      "state": {
       "description_width": ""
      }
     },
     "b79d1c5b418e4d2eb7e989292d55acf1": {
      "model_module": "@jupyter-widgets/base",
      "model_module_version": "2.0.0",
      "model_name": "LayoutModel",
      "state": {}
     },
     "b848d78d5a724aa19805149726af76ec": {
      "model_module": "@jupyter-widgets/base",
      "model_module_version": "2.0.0",
      "model_name": "LayoutModel",
      "state": {}
     },
     "b9d293ce6d424fadbce782a24c2877a2": {
      "model_module": "@jupyter-widgets/controls",
      "model_module_version": "2.0.0",
      "model_name": "SliderStyleModel",
      "state": {
       "description_width": ""
      }
     },
     "bbff6767e6b94fdf9aa6154c7fafa344": {
      "model_module": "@jupyter-widgets/controls",
      "model_module_version": "2.0.0",
      "model_name": "DescriptionStyleModel",
      "state": {
       "description_width": ""
      }
     },
     "bc778b6ffc97412bb8be8391999af839": {
      "model_module": "@jupyter-widgets/base",
      "model_module_version": "2.0.0",
      "model_name": "LayoutModel",
      "state": {}
     },
     "c0cf5e2908014c7b8f2b497ffd103ba2": {
      "model_module": "@jupyter-widgets/base",
      "model_module_version": "2.0.0",
      "model_name": "LayoutModel",
      "state": {}
     },
     "c16c036d0a8d42f5b10c1b4389ba1ef4": {
      "model_module": "@jupyter-widgets/controls",
      "model_module_version": "2.0.0",
      "model_name": "TextStyleModel",
      "state": {
       "description_width": "",
       "font_size": null,
       "text_color": null
      }
     },
     "c21a7fc0de374ca2b2b5831e57100fb9": {
      "model_module": "@jupyter-widgets/controls",
      "model_module_version": "2.0.0",
      "model_name": "CheckboxStyleModel",
      "state": {
       "description_width": ""
      }
     },
     "c24bcaead5c94b29ba800566892fd4c5": {
      "model_module": "@jupyter-widgets/base",
      "model_module_version": "2.0.0",
      "model_name": "LayoutModel",
      "state": {}
     },
     "c4890de8181a495a909a73e062bc0d63": {
      "model_module": "@jupyter-widgets/controls",
      "model_module_version": "2.0.0",
      "model_name": "DescriptionStyleModel",
      "state": {
       "description_width": ""
      }
     },
     "c4d177f7419543a8b5ef93100a457831": {
      "model_module": "@jupyter-widgets/base",
      "model_module_version": "2.0.0",
      "model_name": "LayoutModel",
      "state": {}
     },
     "c6c28fdd866d4275a5fd62c6300ec2be": {
      "model_module": "@jupyter-widgets/controls",
      "model_module_version": "2.0.0",
      "model_name": "DescriptionStyleModel",
      "state": {
       "description_width": ""
      }
     },
     "c95ab7736a83441f9ed9906e69d5ee44": {
      "model_module": "@jupyter-widgets/controls",
      "model_module_version": "2.0.0",
      "model_name": "SliderStyleModel",
      "state": {
       "description_width": ""
      }
     },
     "cd01ed7b6cb841ce8ce77e52143c5896": {
      "model_module": "@jupyter-widgets/base",
      "model_module_version": "2.0.0",
      "model_name": "LayoutModel",
      "state": {}
     },
     "cd6642253f8e4723a827bedaa9932c4c": {
      "model_module": "@jupyter-widgets/base",
      "model_module_version": "2.0.0",
      "model_name": "LayoutModel",
      "state": {}
     },
     "ce32c401b911454d80cc5500c7756fc6": {
      "model_module": "@jupyter-widgets/base",
      "model_module_version": "2.0.0",
      "model_name": "LayoutModel",
      "state": {}
     },
     "cffce1b1d1a544069f6081e8cb25c876": {
      "model_module": "@jupyter-widgets/base",
      "model_module_version": "2.0.0",
      "model_name": "LayoutModel",
      "state": {}
     },
     "d3d880874ca14ab0abbe92a894e71448": {
      "model_module": "@jupyter-widgets/controls",
      "model_module_version": "2.0.0",
      "model_name": "DescriptionStyleModel",
      "state": {
       "description_width": ""
      }
     },
     "d49a5c1487ca4058b87f07a8a94893fe": {
      "model_module": "@jupyter-widgets/controls",
      "model_module_version": "2.0.0",
      "model_name": "TextStyleModel",
      "state": {
       "description_width": "",
       "font_size": null,
       "text_color": null
      }
     },
     "d4a9f52c2e7249fa8d5a31d15b7a310f": {
      "model_module": "@jupyter-widgets/output",
      "model_module_version": "1.0.0",
      "model_name": "OutputModel",
      "state": {
       "layout": "IPY_MODEL_1382b03c57654aaab0b32d0c3881b715",
       "outputs": [
        {
         "data": {
          "image/png": "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",
          "text/plain": "<Figure size 200x200 with 1 Axes>"
         },
         "metadata": {},
         "output_type": "display_data"
        }
       ]
      }
     },
     "d5bb18ea4c77438da8d55277f3cfd796": {
      "model_module": "@jupyter-widgets/controls",
      "model_module_version": "2.0.0",
      "model_name": "SliderStyleModel",
      "state": {
       "description_width": ""
      }
     },
     "dce6348dd3ed4e8a92eb95eac4e0156f": {
      "model_module": "@jupyter-widgets/controls",
      "model_module_version": "2.0.0",
      "model_name": "DescriptionStyleModel",
      "state": {
       "description_width": ""
      }
     },
     "e3ae8979a6e44f9fb954ddb57bd8aed9": {
      "model_module": "@jupyter-widgets/base",
      "model_module_version": "2.0.0",
      "model_name": "LayoutModel",
      "state": {}
     },
     "e52b3556fef442b5a7b7a34b11c2d79b": {
      "model_module": "@jupyter-widgets/controls",
      "model_module_version": "2.0.0",
      "model_name": "TextStyleModel",
      "state": {
       "description_width": "",
       "font_size": null,
       "text_color": null
      }
     },
     "e6f4352ae94a4a2687182bbf1468ba77": {
      "model_module": "@jupyter-widgets/controls",
      "model_module_version": "2.0.0",
      "model_name": "DropdownModel",
      "state": {
       "_options_labels": [
        "tab:blue",
        "tab:orange",
        "tab:green",
        "tab:red",
        "tab:purple",
        "tab:brown",
        "tab:pink",
        "tab:gray",
        "tab:olive",
        "tab:cyan"
       ],
       "description": "color",
       "index": 0,
       "layout": "IPY_MODEL_82a0196f459b4d31871344791ac49c65",
       "style": "IPY_MODEL_c6c28fdd866d4275a5fd62c6300ec2be"
      }
     },
     "edd0dfd1ee6b4ec5886c9bda0d5fd814": {
      "model_module": "@jupyter-widgets/controls",
      "model_module_version": "2.0.0",
      "model_name": "SliderStyleModel",
      "state": {
       "description_width": ""
      }
     },
     "ef50bb9975194c0ab7c6c4c5e1ad54a3": {
      "model_module": "@jupyter-widgets/base",
      "model_module_version": "2.0.0",
      "model_name": "LayoutModel",
      "state": {}
     },
     "f4c82b9066394f9b86c5654c5024b780": {
      "model_module": "@jupyter-widgets/controls",
      "model_module_version": "2.0.0",
      "model_name": "TextModel",
      "state": {
       "description": "Title",
       "layout": "IPY_MODEL_4b1c311943fa4769bd6b09ec08e44598",
       "style": "IPY_MODEL_6086be10c0514802b36bc101cab6570c",
       "value": "title"
      }
     },
     "f7b7cbaa1b5f4348a9f32060427a4594": {
      "model_module": "@jupyter-widgets/base",
      "model_module_version": "2.0.0",
      "model_name": "LayoutModel",
      "state": {}
     },
     "f7c0d19fe2ae421992d45f9e8ff6050a": {
      "model_module": "@jupyter-widgets/base",
      "model_module_version": "2.0.0",
      "model_name": "LayoutModel",
      "state": {}
     },
     "fb0b85e6c953467aafdfa59db1b81688": {
      "model_module": "@jupyter-widgets/output",
      "model_module_version": "1.0.0",
      "model_name": "OutputModel",
      "state": {
       "layout": "IPY_MODEL_b848d78d5a724aa19805149726af76ec",
       "outputs": [
        {
         "data": {
          "image/png": "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",
          "text/plain": "<Figure size 640x480 with 1 Axes>"
         },
         "metadata": {},
         "output_type": "display_data"
        },
        {
         "name": "stderr",
         "output_type": "stream",
         "text": "No such comm: fb0b85e6c953467aafdfa59db1b81688\n"
        }
       ]
      }
     },
     "fb23085d1f3d46f591ce711a8c8dc4e3": {
      "model_module": "@jupyter-widgets/controls",
      "model_module_version": "2.0.0",
      "model_name": "FloatSliderModel",
      "state": {
       "behavior": "drag-tap",
       "description": "linewidth",
       "layout": "IPY_MODEL_4b9bc2b2e41e429bb5b8df0b974900a8",
       "max": 5,
       "step": 0.1,
       "style": "IPY_MODEL_fd9edaaf63a04cf3a4069c4dc91ef7a8",
       "value": 2.5
      }
     },
     "fb7b66a7b69d472ba807dac085ae976d": {
      "model_module": "@jupyter-widgets/controls",
      "model_module_version": "2.0.0",
      "model_name": "IntSliderModel",
      "state": {
       "behavior": "drag-tap",
       "description": "ncols:",
       "layout": "IPY_MODEL_47c0fc04ed47412a9b0285cb70c6891a",
       "max": 3,
       "min": 1,
       "style": "IPY_MODEL_fc2101bdb06e4bf18208ab69d59ed516",
       "value": 1
      }
     },
     "fc2101bdb06e4bf18208ab69d59ed516": {
      "model_module": "@jupyter-widgets/controls",
      "model_module_version": "2.0.0",
      "model_name": "SliderStyleModel",
      "state": {
       "description_width": ""
      }
     },
     "fd8a1c51ee9a4468bf108237f498b72c": {
      "model_module": "@jupyter-widgets/output",
      "model_module_version": "1.0.0",
      "model_name": "OutputModel",
      "state": {
       "layout": "IPY_MODEL_6eee17892ec840a28ab89b4fd8d303cc",
       "outputs": [
        {
         "data": {
          "image/png": "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",
          "text/plain": "<Figure size 640x480 with 1 Axes>"
         },
         "metadata": {},
         "output_type": "display_data"
        }
       ]
      }
     },
     "fd9edaaf63a04cf3a4069c4dc91ef7a8": {
      "model_module": "@jupyter-widgets/controls",
      "model_module_version": "2.0.0",
      "model_name": "SliderStyleModel",
      "state": {
       "description_width": ""
      }
     },
     "fdc38a7776fe44f78c7a7f777ad8097d": {
      "model_module": "@jupyter-widgets/controls",
      "model_module_version": "2.0.0",
      "model_name": "DropdownModel",
      "state": {
       "_options_labels": [
        "best",
        "upper right",
        "upper left",
        "lower left",
        "lower right",
        "right",
        "center left",
        "center right",
        "lower center",
        "upper center",
        "center"
       ],
       "description": "loc",
       "index": 0,
       "layout": "IPY_MODEL_cd6642253f8e4723a827bedaa9932c4c",
       "style": "IPY_MODEL_b0d7c7433f4548eb8d5ec1a966f926e9"
      }
     }
    },
    "version_major": 2,
    "version_minor": 0
   }
  }
 },
 "nbformat": 4,
 "nbformat_minor": 5
}
